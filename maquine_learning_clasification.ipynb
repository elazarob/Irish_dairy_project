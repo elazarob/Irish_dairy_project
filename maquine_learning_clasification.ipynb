{
 "cells": [
  {
   "cell_type": "code",
   "execution_count": 1,
   "id": "0c55c657",
   "metadata": {},
   "outputs": [],
   "source": [
    "import pandas as pd\n",
    "import numpy as np\n",
    "import seaborn as sns\n",
    "import matplotlib.pyplot as plt\n",
    "import sklearn.preprocessing as preproc  \n",
    "import pingouin as pg\n",
    "from sklearn.model_selection import train_test_split\n"
   ]
  },
  {
   "cell_type": "code",
   "execution_count": 2,
   "id": "4def1655",
   "metadata": {},
   "outputs": [],
   "source": [
    "missing_value_formats = [\"n.a.\",\"?\",\"NA\",\":\", \"na\", \"--\"]\n",
    "df = pd.read_csv(\"apro_mk_colm_1_Data.csv\", na_values = missing_value_formats)"
   ]
  },
  {
   "cell_type": "code",
   "execution_count": 3,
   "id": "5820bbba",
   "metadata": {},
   "outputs": [
    {
     "name": "stdout",
     "output_type": "stream",
     "text": [
      "<class 'pandas.core.frame.DataFrame'>\n",
      "RangeIndex: 176220 entries, 0 to 176219\n",
      "Data columns (total 6 columns):\n",
      " #   Column              Non-Null Count   Dtype  \n",
      "---  ------              --------------   -----  \n",
      " 0   TIME                176220 non-null  object \n",
      " 1   GEO                 176220 non-null  object \n",
      " 2   DAIRYPROD           176220 non-null  object \n",
      " 3   UNIT                176220 non-null  object \n",
      " 4   Value               58156 non-null   float64\n",
      " 5   Flag and Footnotes  14097 non-null   object \n",
      "dtypes: float64(1), object(5)\n",
      "memory usage: 8.1+ MB\n"
     ]
    }
   ],
   "source": [
    "df.info()"
   ]
  },
  {
   "cell_type": "code",
   "execution_count": 4,
   "id": "d15034a0",
   "metadata": {},
   "outputs": [
    {
     "data": {
      "text/html": [
       "<div>\n",
       "<style scoped>\n",
       "    .dataframe tbody tr th:only-of-type {\n",
       "        vertical-align: middle;\n",
       "    }\n",
       "\n",
       "    .dataframe tbody tr th {\n",
       "        vertical-align: top;\n",
       "    }\n",
       "\n",
       "    .dataframe thead th {\n",
       "        text-align: right;\n",
       "    }\n",
       "</style>\n",
       "<table border=\"1\" class=\"dataframe\">\n",
       "  <thead>\n",
       "    <tr style=\"text-align: right;\">\n",
       "      <th></th>\n",
       "      <th>TIME</th>\n",
       "      <th>GEO</th>\n",
       "      <th>DAIRYPROD</th>\n",
       "      <th>UNIT</th>\n",
       "      <th>Value</th>\n",
       "      <th>Flag and Footnotes</th>\n",
       "    </tr>\n",
       "  </thead>\n",
       "  <tbody>\n",
       "    <tr>\n",
       "      <th>0</th>\n",
       "      <td>2000M01</td>\n",
       "      <td>European Union - 27 countries (from 2020)</td>\n",
       "      <td>Raw cows' milk delivered to dairies</td>\n",
       "      <td>Thousand tonnes</td>\n",
       "      <td>NaN</td>\n",
       "      <td>NaN</td>\n",
       "    </tr>\n",
       "    <tr>\n",
       "      <th>1</th>\n",
       "      <td>2000M01</td>\n",
       "      <td>European Union - 27 countries (from 2020)</td>\n",
       "      <td>Raw cows' milk delivered to dairies</td>\n",
       "      <td>Fat content (% of product weight)</td>\n",
       "      <td>NaN</td>\n",
       "      <td>NaN</td>\n",
       "    </tr>\n",
       "    <tr>\n",
       "      <th>2</th>\n",
       "      <td>2000M01</td>\n",
       "      <td>European Union - 27 countries (from 2020)</td>\n",
       "      <td>Raw cows' milk delivered to dairies</td>\n",
       "      <td>Protein content (% of product weight)</td>\n",
       "      <td>NaN</td>\n",
       "      <td>NaN</td>\n",
       "    </tr>\n",
       "    <tr>\n",
       "      <th>3</th>\n",
       "      <td>2000M01</td>\n",
       "      <td>European Union - 27 countries (from 2020)</td>\n",
       "      <td>Raw cream delivered to dairies (in milk equiva...</td>\n",
       "      <td>Thousand tonnes</td>\n",
       "      <td>NaN</td>\n",
       "      <td>NaN</td>\n",
       "    </tr>\n",
       "    <tr>\n",
       "      <th>4</th>\n",
       "      <td>2000M01</td>\n",
       "      <td>European Union - 27 countries (from 2020)</td>\n",
       "      <td>Raw cream delivered to dairies (in milk equiva...</td>\n",
       "      <td>Fat content (% of product weight)</td>\n",
       "      <td>NaN</td>\n",
       "      <td>NaN</td>\n",
       "    </tr>\n",
       "  </tbody>\n",
       "</table>\n",
       "</div>"
      ],
      "text/plain": [
       "      TIME                                        GEO  \\\n",
       "0  2000M01  European Union - 27 countries (from 2020)   \n",
       "1  2000M01  European Union - 27 countries (from 2020)   \n",
       "2  2000M01  European Union - 27 countries (from 2020)   \n",
       "3  2000M01  European Union - 27 countries (from 2020)   \n",
       "4  2000M01  European Union - 27 countries (from 2020)   \n",
       "\n",
       "                                           DAIRYPROD  \\\n",
       "0                Raw cows' milk delivered to dairies   \n",
       "1                Raw cows' milk delivered to dairies   \n",
       "2                Raw cows' milk delivered to dairies   \n",
       "3  Raw cream delivered to dairies (in milk equiva...   \n",
       "4  Raw cream delivered to dairies (in milk equiva...   \n",
       "\n",
       "                                    UNIT  Value Flag and Footnotes  \n",
       "0                        Thousand tonnes    NaN                NaN  \n",
       "1      Fat content (% of product weight)    NaN                NaN  \n",
       "2  Protein content (% of product weight)    NaN                NaN  \n",
       "3                        Thousand tonnes    NaN                NaN  \n",
       "4      Fat content (% of product weight)    NaN                NaN  "
      ]
     },
     "execution_count": 4,
     "metadata": {},
     "output_type": "execute_result"
    }
   ],
   "source": [
    "df.head()"
   ]
  },
  {
   "cell_type": "markdown",
   "id": "d350dc8d",
   "metadata": {},
   "source": [
    "# CLEANING"
   ]
  },
  {
   "cell_type": "code",
   "execution_count": 5,
   "id": "9359cc17",
   "metadata": {},
   "outputs": [],
   "source": [
    "#delete columns and change names of columns\n",
    "\n",
    "df = df.rename(columns={\"GEO\": \"Country\"})\n",
    "df = df.drop([\"Flag and Footnotes\"], axis=1)\n"
   ]
  },
  {
   "cell_type": "code",
   "execution_count": 6,
   "id": "4c6b562a",
   "metadata": {},
   "outputs": [
    {
     "data": {
      "text/plain": [
       "array(['European Union - 27 countries (from 2020)',\n",
       "       'European Union - 28 countries (2013-2020)',\n",
       "       'European Union - 27 countries (2007-2013)',\n",
       "       'European Union - 25 countries (2004-2006)',\n",
       "       'European Union - 15 countries (1995-2004)', 'Belgium', 'Bulgaria',\n",
       "       'Czechia', 'Denmark',\n",
       "       'Germany (until 1990 former territory of the FRG)', 'Estonia',\n",
       "       'Ireland', 'Greece', 'Spain', 'France', 'Croatia', 'Italy',\n",
       "       'Cyprus', 'Latvia', 'Lithuania', 'Luxembourg', 'Hungary', 'Malta',\n",
       "       'Netherlands', 'Austria', 'Poland', 'Portugal', 'Romania',\n",
       "       'Slovenia', 'Slovakia', 'Finland', 'Sweden',\n",
       "       'European Economic Area (EEA18-1995, EEA28-2004, EEA30-2007, EEA31-2013, EEA30-2020)',\n",
       "       'European Free Trade Association', 'Iceland', 'Norway',\n",
       "       'Switzerland', 'United Kingdom', 'Montenegro', 'North Macedonia',\n",
       "       'Albania', 'Serbia', 'Turkey', 'Bosnia and Herzegovina'],\n",
       "      dtype=object)"
      ]
     },
     "execution_count": 6,
     "metadata": {},
     "output_type": "execute_result"
    }
   ],
   "source": [
    "#identify countries for the study\n",
    "\n",
    "df.Country.unique() "
   ]
  },
  {
   "cell_type": "code",
   "execution_count": 7,
   "id": "9794940c",
   "metadata": {},
   "outputs": [
    {
     "name": "stderr",
     "output_type": "stream",
     "text": [
      "C:\\Users\\fenix\\AppData\\Local\\Temp/ipykernel_15720/3622012569.py:2: FutureWarning: The default value of regex will change from True to False in a future version.\n",
      "  df[\"DAIRYPROD\"]=df[\"DAIRYPROD\"].str.replace(\"[^\\w\\s]\",\"\")\n"
     ]
    }
   ],
   "source": [
    "#some countries have special characteres\n",
    "\n",
    "df[\"DAIRYPROD\"]=df[\"DAIRYPROD\"].str.replace(\"[^\\w\\s]\",\"\")\n",
    "#df[\"Value\"]=df[\"Value\"].str.replace(\"[^\\w\\,]\",\"\")\n",
    "\n"
   ]
  },
  {
   "cell_type": "code",
   "execution_count": 8,
   "id": "bc2f99b9",
   "metadata": {},
   "outputs": [
    {
     "name": "stderr",
     "output_type": "stream",
     "text": [
      "C:\\Users\\fenix\\AppData\\Local\\Temp/ipykernel_15720/4157509316.py:5: UserWarning: Boolean Series key will be reindexed to match DataFrame index.\n",
      "  df1= df1[df['DAIRYPROD'].isin(dairy_list)]\n"
     ]
    }
   ],
   "source": [
    "#filter countries and data \n",
    "\n",
    "country_list = ['Belgium',\"Denmark\",\"Sweden\",\"Ireland\",\"Austria\"]\n",
    "df1 = df[df['Country'].isin(country_list)]\n",
    "dairy_list = [\"Raw cows milk delivered to dairies\",\"Drinking milk\",\"Cream for direct consumption\"]\n",
    "df1= df1[df['DAIRYPROD'].isin(dairy_list)]\n"
   ]
  },
  {
   "cell_type": "code",
   "execution_count": 9,
   "id": "6f3659cc",
   "metadata": {},
   "outputs": [
    {
     "data": {
      "text/html": [
       "<div>\n",
       "<style scoped>\n",
       "    .dataframe tbody tr th:only-of-type {\n",
       "        vertical-align: middle;\n",
       "    }\n",
       "\n",
       "    .dataframe tbody tr th {\n",
       "        vertical-align: top;\n",
       "    }\n",
       "\n",
       "    .dataframe thead th {\n",
       "        text-align: right;\n",
       "    }\n",
       "</style>\n",
       "<table border=\"1\" class=\"dataframe\">\n",
       "  <thead>\n",
       "    <tr style=\"text-align: right;\">\n",
       "      <th></th>\n",
       "      <th>TIME</th>\n",
       "      <th>Country</th>\n",
       "      <th>DAIRYPROD</th>\n",
       "      <th>UNIT</th>\n",
       "      <th>Value</th>\n",
       "    </tr>\n",
       "  </thead>\n",
       "  <tbody>\n",
       "    <tr>\n",
       "      <th>75</th>\n",
       "      <td>2000M01</td>\n",
       "      <td>Belgium</td>\n",
       "      <td>Raw cows milk delivered to dairies</td>\n",
       "      <td>Thousand tonnes</td>\n",
       "      <td>260.02</td>\n",
       "    </tr>\n",
       "    <tr>\n",
       "      <th>76</th>\n",
       "      <td>2000M01</td>\n",
       "      <td>Belgium</td>\n",
       "      <td>Raw cows milk delivered to dairies</td>\n",
       "      <td>Fat content (% of product weight)</td>\n",
       "      <td>4.18</td>\n",
       "    </tr>\n",
       "    <tr>\n",
       "      <th>77</th>\n",
       "      <td>2000M01</td>\n",
       "      <td>Belgium</td>\n",
       "      <td>Raw cows milk delivered to dairies</td>\n",
       "      <td>Protein content (% of product weight)</td>\n",
       "      <td>3.34</td>\n",
       "    </tr>\n",
       "    <tr>\n",
       "      <th>81</th>\n",
       "      <td>2000M01</td>\n",
       "      <td>Belgium</td>\n",
       "      <td>Drinking milk</td>\n",
       "      <td>Thousand tonnes</td>\n",
       "      <td>53.93</td>\n",
       "    </tr>\n",
       "    <tr>\n",
       "      <th>84</th>\n",
       "      <td>2000M01</td>\n",
       "      <td>Belgium</td>\n",
       "      <td>Cream for direct consumption</td>\n",
       "      <td>Thousand tonnes</td>\n",
       "      <td>5.50</td>\n",
       "    </tr>\n",
       "  </tbody>\n",
       "</table>\n",
       "</div>"
      ],
      "text/plain": [
       "       TIME  Country                           DAIRYPROD  \\\n",
       "75  2000M01  Belgium  Raw cows milk delivered to dairies   \n",
       "76  2000M01  Belgium  Raw cows milk delivered to dairies   \n",
       "77  2000M01  Belgium  Raw cows milk delivered to dairies   \n",
       "81  2000M01  Belgium                       Drinking milk   \n",
       "84  2000M01  Belgium        Cream for direct consumption   \n",
       "\n",
       "                                     UNIT   Value  \n",
       "75                        Thousand tonnes  260.02  \n",
       "76      Fat content (% of product weight)    4.18  \n",
       "77  Protein content (% of product weight)    3.34  \n",
       "81                        Thousand tonnes   53.93  \n",
       "84                        Thousand tonnes    5.50  "
      ]
     },
     "execution_count": 9,
     "metadata": {},
     "output_type": "execute_result"
    }
   ],
   "source": [
    "#drop na and duplicates\n",
    "\n",
    "df1=df1.dropna(subset=[\"Value\"])\n",
    "df = df1.drop_duplicates()\n",
    "df.head()"
   ]
  },
  {
   "cell_type": "code",
   "execution_count": 10,
   "id": "4e4b7854",
   "metadata": {},
   "outputs": [],
   "source": [
    "#step before merging and melting, we need to change the layout of the dataset.\n",
    "\n",
    "milk_delivered_to_dairies=df.query(\"DAIRYPROD=='Raw cows milk delivered to dairies'\")\n",
    "milk_delivered_to_dairies = milk_delivered_to_dairies.drop([\"DAIRYPROD\"], axis=1)\n",
    "\n",
    "\n",
    "drinking_milk=df.query(\"DAIRYPROD=='Drinking milk'\")\n",
    "drinking_milk = drinking_milk.drop([\"DAIRYPROD\"], axis=1)\n",
    "\n",
    "cream =df.query(\"DAIRYPROD=='Cream for direct consumption'\")\n",
    "cream = cream.drop([\"DAIRYPROD\"], axis=1)\n",
    "\n"
   ]
  },
  {
   "cell_type": "code",
   "execution_count": 11,
   "id": "63f9054f",
   "metadata": {},
   "outputs": [],
   "source": [
    "#second step before merging and melting, in order to change the layout of the dataset.\n",
    "\n",
    "\n",
    "milk_delivered_to_dairies_tonnes=milk_delivered_to_dairies.query(\"UNIT=='Thousand tonnes'\")\n",
    "milk_delivered_to_dairies_Fat=milk_delivered_to_dairies.query(\"UNIT=='Fat content (% of product weight)'\")\n",
    "milk_delivered_to_dairies_Protein=milk_delivered_to_dairies.query(\"UNIT=='Protein content (% of product weight)'\")\n",
    "\n",
    "\n",
    "milk_delivered_to_dairies_tonnes = milk_delivered_to_dairies_tonnes.rename(columns={\"Value\": \"Thousand_tonnes_to_dairies\"})\n",
    "milk_delivered_to_dairies_Fat=milk_delivered_to_dairies_Fat.rename(columns={\"Value\": \"Fat_content\"})\n",
    "milk_delivered_to_dairies_Protein=milk_delivered_to_dairies_Protein.rename(columns={\"Value\": \"Protein_content\"})\n",
    "drinking_milk=drinking_milk.rename(columns={\"Value\": \"drinking_milk\"})\n",
    "cream=cream.rename(columns={\"Value\": \"Cream\"})\n",
    "\n",
    "\n",
    "\n",
    "#columns are not necesary \n",
    "milk_delivered_to_dairies_tonnes = milk_delivered_to_dairies_tonnes.drop([\"UNIT\"], axis=1)\n",
    "milk_delivered_to_dairies_Fat = milk_delivered_to_dairies_Fat.drop([\"UNIT\"], axis=1)\n",
    "milk_delivered_to_dairies_Protein = milk_delivered_to_dairies_Protein.drop([\"UNIT\"], axis=1)\n",
    "drinking_milk=drinking_milk.drop([\"UNIT\"], axis=1)\n",
    "cream=cream.drop([\"UNIT\"], axis=1)\n"
   ]
  },
  {
   "cell_type": "code",
   "execution_count": 12,
   "id": "cb19021c",
   "metadata": {},
   "outputs": [
    {
     "data": {
      "text/html": [
       "<div>\n",
       "<style scoped>\n",
       "    .dataframe tbody tr th:only-of-type {\n",
       "        vertical-align: middle;\n",
       "    }\n",
       "\n",
       "    .dataframe tbody tr th {\n",
       "        vertical-align: top;\n",
       "    }\n",
       "\n",
       "    .dataframe thead th {\n",
       "        text-align: right;\n",
       "    }\n",
       "</style>\n",
       "<table border=\"1\" class=\"dataframe\">\n",
       "  <thead>\n",
       "    <tr style=\"text-align: right;\">\n",
       "      <th></th>\n",
       "      <th>TIME</th>\n",
       "      <th>Country</th>\n",
       "      <th>Cream</th>\n",
       "    </tr>\n",
       "  </thead>\n",
       "  <tbody>\n",
       "    <tr>\n",
       "      <th>84</th>\n",
       "      <td>2000M01</td>\n",
       "      <td>Belgium</td>\n",
       "      <td>5.5</td>\n",
       "    </tr>\n",
       "    <tr>\n",
       "      <th>129</th>\n",
       "      <td>2000M01</td>\n",
       "      <td>Denmark</td>\n",
       "      <td>4.6</td>\n",
       "    </tr>\n",
       "    <tr>\n",
       "      <th>174</th>\n",
       "      <td>2000M01</td>\n",
       "      <td>Ireland</td>\n",
       "      <td>0.7</td>\n",
       "    </tr>\n",
       "    <tr>\n",
       "      <th>369</th>\n",
       "      <td>2000M01</td>\n",
       "      <td>Austria</td>\n",
       "      <td>4.0</td>\n",
       "    </tr>\n",
       "    <tr>\n",
       "      <th>474</th>\n",
       "      <td>2000M01</td>\n",
       "      <td>Sweden</td>\n",
       "      <td>7.3</td>\n",
       "    </tr>\n",
       "  </tbody>\n",
       "</table>\n",
       "</div>"
      ],
      "text/plain": [
       "        TIME  Country  Cream\n",
       "84   2000M01  Belgium    5.5\n",
       "129  2000M01  Denmark    4.6\n",
       "174  2000M01  Ireland    0.7\n",
       "369  2000M01  Austria    4.0\n",
       "474  2000M01   Sweden    7.3"
      ]
     },
     "execution_count": 12,
     "metadata": {},
     "output_type": "execute_result"
    }
   ],
   "source": [
    "#We created 5 datasets that they will be combining in the next step.\n",
    "\n",
    "#milk_delivered_to_dairies_tonnes.head()\n",
    "#milk_delivered_to_dairies_Fat.head()\n",
    "#milk_delivered_to_dairies_Protein.head()\n",
    "cream.head()\n"
   ]
  },
  {
   "cell_type": "markdown",
   "id": "8f4bacd6",
   "metadata": {},
   "source": [
    "# COMBINING DATA "
   ]
  },
  {
   "cell_type": "code",
   "execution_count": 13,
   "id": "4712a2f7",
   "metadata": {},
   "outputs": [],
   "source": [
    "milk_delivered_to_dairies=pd.merge(milk_delivered_to_dairies_tonnes , milk_delivered_to_dairies_Fat ,on=[\"TIME\",\"Country\"]) #INNER MERGE\n",
    "milk_delivered_to_dairies=pd.merge(milk_delivered_to_dairies , milk_delivered_to_dairies_Protein, on=[\"TIME\",\"Country\"])\n",
    "dairy_production=pd.merge(milk_delivered_to_dairies , drinking_milk, on=[\"TIME\",\"Country\"])\n",
    "dairy_production=pd.merge(dairy_production , cream, on=[\"TIME\",\"Country\"])"
   ]
  },
  {
   "cell_type": "code",
   "execution_count": 14,
   "id": "dd0697cc",
   "metadata": {},
   "outputs": [
    {
     "name": "stdout",
     "output_type": "stream",
     "text": [
      "<class 'pandas.core.frame.DataFrame'>\n",
      "Int64Index: 1330 entries, 0 to 1329\n",
      "Data columns (total 7 columns):\n",
      " #   Column                      Non-Null Count  Dtype  \n",
      "---  ------                      --------------  -----  \n",
      " 0   TIME                        1330 non-null   object \n",
      " 1   Country                     1330 non-null   object \n",
      " 2   Thousand_tonnes_to_dairies  1330 non-null   float64\n",
      " 3   Fat_content                 1330 non-null   float64\n",
      " 4   Protein_content             1330 non-null   float64\n",
      " 5   drinking_milk               1330 non-null   float64\n",
      " 6   Cream                       1330 non-null   float64\n",
      "dtypes: float64(5), object(2)\n",
      "memory usage: 83.1+ KB\n"
     ]
    }
   ],
   "source": [
    "\n",
    "dairy_production.info() #machine learning database"
   ]
  },
  {
   "cell_type": "code",
   "execution_count": 15,
   "id": "8e026e88",
   "metadata": {},
   "outputs": [
    {
     "data": {
      "text/plain": [
       "Text(0.5, 1.0, 'Correlation')"
      ]
     },
     "execution_count": 15,
     "metadata": {},
     "output_type": "execute_result"
    },
    {
     "data": {
      "image/png": "[encoded data removed]",
      "text/plain": [
       "<Figure size 432x288 with 2 Axes>"
      ]
     },
     "metadata": {
      "needs_background": "light"
     },
     "output_type": "display_data"
    }
   ],
   "source": [
    "dataplot = sns.heatmap(dairy_production.corr(), cmap=\"YlGnBu\", annot=True)\n",
    "plt.title('Correlation', fontsize = 20)\n",
    "\n"
   ]
  },
  {
   "cell_type": "markdown",
   "id": "7126e3ea",
   "metadata": {},
   "source": [
    "# KNeighborsClassifier"
   ]
  },
  {
   "cell_type": "code",
   "execution_count": 16,
   "id": "de450f02",
   "metadata": {},
   "outputs": [],
   "source": [
    "#dairy_production_k = dairy_production[['TIME','Thousand tonnes to dairies','Fat content','Protein content','drinking_milk','Cream']]\n",
    "dairy_production_k = dairy_production.reindex(columns=['Thousand_tonnes_to_dairies','Fat_content','Protein_content','drinking_milk','Cream','Country'])\n"
   ]
  },
  {
   "cell_type": "code",
   "execution_count": 17,
   "id": "3540a786",
   "metadata": {},
   "outputs": [
    {
     "name": "stdout",
     "output_type": "stream",
     "text": [
      "accuracy:  0.8120300751879699\n"
     ]
    }
   ],
   "source": [
    "\n",
    "\n",
    "from sklearn.model_selection import train_test_split \n",
    "from sklearn.neighbors import KNeighborsClassifier\n",
    "\n",
    "X = dairy_production_k.iloc[:,:4]\n",
    "y = dairy_production_k.iloc[:,5]\n",
    "# split into test and train dataset, and use random_state=48\n",
    "X_train, X_test, y_train, y_test = train_test_split(X, y,test_size=0.2, random_state=42)\n",
    "# build KNN model and choose n_neighbors = 5\n",
    "knn = KNeighborsClassifier(n_neighbors = 3)\n",
    "# train the model\n",
    "knn.fit(X_train, y_train)\n",
    "# get the predict value from X_test\n",
    "y_pred = knn.predict(X_test)\n",
    "# print the score\n",
    "print('accuracy: ', knn.score(X_test, y_test))\n",
    "# accuracy:  0.973684210526"
   ]
  },
  {
   "cell_type": "code",
   "execution_count": 18,
   "id": "891b3f94",
   "metadata": {},
   "outputs": [],
   "source": [
    "neighbors = np.arange(1, 9)                  # number of neighbors\n",
    "train_accuracy = np.zeros(len(neighbors))    # Declare and initialise the matrix\n",
    "test_accuracy = np.zeros(len(neighbors))   "
   ]
  },
  {
   "cell_type": "code",
   "execution_count": 19,
   "id": "a0595c89",
   "metadata": {},
   "outputs": [],
   "source": [
    "for i,k in enumerate(neighbors):                          # for loop that checks the model for neighbor values 1, 2, 3, ..., 9\n",
    "    knn = KNeighborsClassifier(n_neighbors = k)           # Initialise an object knn using KNeighborsClassifier method\n",
    "\n",
    "    #Fit the model\n",
    "    knn.fit(X_train, y_train)                      # Call fit method to implement the ML KNeighborsClassifier model\n",
    "\n",
    "    #Compute accuracy on the training set\n",
    "    train_accuracy[i] = knn.score(X_train, y_train)   # Save the score value in the train_accuracy array\n",
    "\n",
    "    #Compute accuracy on the test set\n",
    "    test_accuracy[i] = knn.score(X_test, y_test) "
   ]
  },
  {
   "cell_type": "code",
   "execution_count": 20,
   "id": "f65ffd34",
   "metadata": {},
   "outputs": [
    {
     "data": {
      "image/png": "[encoded data removed]",
      "text/plain": [
       "<Figure size 720x432 with 1 Axes>"
      ]
     },
     "metadata": {
      "needs_background": "light"
     },
     "output_type": "display_data"
    }
   ],
   "source": [
    "# Delcare the size of the array\n",
    "plt.figure(figsize = (10, 6))\n",
    "plt.title('KNN accuracy with varying number of neighbors', fontsize = 20)\n",
    "plt.plot(neighbors, test_accuracy, label = 'Testing Accuracy')\n",
    "plt.plot(neighbors, train_accuracy, label = 'Training accuracy')\n",
    "plt.legend(prop = {'size': 20})\n",
    "plt.xlabel('Number of neighbors', fontsize = 20)\n",
    "plt.ylabel('Accuracy', fontsize = 20)\n",
    "plt.xticks(fontsize = 20)\n",
    "plt.yticks(fontsize = 20)\n",
    "plt.show()"
   ]
  },
  {
   "cell_type": "code",
   "execution_count": 21,
   "id": "9c0c4815",
   "metadata": {},
   "outputs": [
    {
     "name": "stdout",
     "output_type": "stream",
     "text": [
      "              precision    recall  f1-score   support\n",
      "\n",
      "     Austria       0.65      0.69      0.67        54\n",
      "     Belgium       0.85      0.80      0.83        51\n",
      "     Denmark       0.91      0.98      0.94        59\n",
      "     Ireland       0.89      0.83      0.86        48\n",
      "      Sweden       0.77      0.74      0.75        54\n",
      "\n",
      "    accuracy                           0.81       266\n",
      "   macro avg       0.81      0.81      0.81       266\n",
      "weighted avg       0.81      0.81      0.81       266\n",
      "\n"
     ]
    },
    {
     "data": {
      "image/png": "[encoded data removed]",
      "text/plain": [
       "<Figure size 432x288 with 2 Axes>"
      ]
     },
     "metadata": {
      "needs_background": "light"
     },
     "output_type": "display_data"
    }
   ],
   "source": [
    "from sklearn.metrics import classification_report, confusion_matrix\n",
    "import seaborn as sns\n",
    "\n",
    "# Calculate cm by calling a method named as 'confusion_matrix'\n",
    "cm = confusion_matrix(y_test, y_pred)\n",
    "\n",
    "# Call a method heatmap() to plot confusion matrix\n",
    "sns.heatmap(cm, annot = True)\n",
    "plt.title(\"Confusion_matrix KNN\")\n",
    "\n",
    "# print the classification_report based on y_test and y_predict\n",
    "print(classification_report(y_test, y_pred))"
   ]
  },
  {
   "cell_type": "markdown",
   "id": "2d562274",
   "metadata": {},
   "source": [
    "# cross_val_score KNeighborsClassifier"
   ]
  },
  {
   "cell_type": "code",
   "execution_count": 48,
   "id": "ade497f1",
   "metadata": {},
   "outputs": [
    {
     "name": "stdout",
     "output_type": "stream",
     "text": [
      "[0.79699248 0.90977444 0.93984962 0.89097744 0.71428571]\n",
      "0.8503759398496241\n"
     ]
    }
   ],
   "source": [
    "# import k-folder\n",
    "from sklearn.model_selection import cross_val_score # use the same model as before\n",
    "knn = KNeighborsClassifier(n_neighbors = 3)\n",
    "# X,y will automatically devided by 4 folder, the scoring I will still use the accuracy\n",
    "scores = cross_val_score(knn, X,y, cv=5, scoring='accuracy')\n",
    "# print all 5 times scores \n",
    "print(scores)\n",
    "# [ 0.96666667  1.          0.93333333  0.96666667  1.        ]\n",
    "# then I will do the average about these five scores to get more accuracy score.\n",
    "print(scores.mean())\n",
    "# 0.973333333333"
   ]
  },
  {
   "cell_type": "markdown",
   "id": "3fb301d9",
   "metadata": {},
   "source": [
    "# GaussianNB"
   ]
  },
  {
   "cell_type": "code",
   "execution_count": 23,
   "id": "49ba9f97",
   "metadata": {},
   "outputs": [
    {
     "name": "stderr",
     "output_type": "stream",
     "text": [
      "C:\\Users\\fenix\\AppData\\Local\\Temp/ipykernel_15720/2092287471.py:3: FutureWarning: In a future version of pandas all arguments of DataFrame.drop except for the argument 'labels' will be keyword-only\n",
      "  X = np.asarray(dairy_production_k.drop('Country', 1))\n"
     ]
    },
    {
     "data": {
      "text/plain": [
       "(array([[260.02,   4.18,   3.34,  53.93,   5.5 ],\n",
       "        [374.5 ,   4.4 ,   3.43,  45.2 ,   4.6 ],\n",
       "        [122.4 ,   3.73,   3.09,  44.7 ,   0.7 ],\n",
       "        ...,\n",
       "        [365.74,   4.43,   3.43,  37.14,   1.35],\n",
       "        [264.78,   4.3 ,   3.43,  60.72,   5.52],\n",
       "        [222.41,   4.32,   3.54,  54.71,   5.18]]),\n",
       " array(['Belgium', 'Denmark', 'Ireland', ..., 'Ireland', 'Austria',\n",
       "        'Sweden'], dtype=object))"
      ]
     },
     "execution_count": 23,
     "metadata": {},
     "output_type": "execute_result"
    }
   ],
   "source": [
    "# Spliting the dataset into independent and dependent variables\n",
    "\n",
    "X = np.asarray(dairy_production_k.drop('Country', 1))\n",
    "y = np.asarray(dairy_production_k['Country'])\n",
    "\n",
    "\n",
    "X,y"
   ]
  },
  {
   "cell_type": "code",
   "execution_count": 24,
   "id": "234cb437",
   "metadata": {},
   "outputs": [
    {
     "data": {
      "text/plain": [
       "((1330, 5), (1330,), (1064, 5), (1064,), (266, 5), (266,))"
      ]
     },
     "execution_count": 24,
     "metadata": {},
     "output_type": "execute_result"
    }
   ],
   "source": [
    "from sklearn.model_selection import train_test_split\n",
    "X_train, X_test, y_train, y_test = train_test_split(X, y, test_size = 0.20)\n",
    "X.shape, y.shape, X_train.shape, y_train.shape, X_test.shape, y_test.shape"
   ]
  },
  {
   "cell_type": "code",
   "execution_count": 25,
   "id": "d238efd5",
   "metadata": {},
   "outputs": [
    {
     "data": {
      "text/plain": [
       "array([[-0.5648373 , -0.55190908, -1.08383595,  0.4126621 , -0.31661133],\n",
       "       [ 0.90554331,  0.91024483,  1.9461636 , -0.93839185, -0.58847899],\n",
       "       [-0.47483091, -0.14855628, -0.18302527,  0.95123186, -0.18473523],\n",
       "       ...,\n",
       "       [-0.61270897,  0.15395832,  0.39021789,  0.43812456, -0.19690841],\n",
       "       [ 0.93767024, -1.00568099,  0.7177854 , -0.73006257, -1.21742656],\n",
       "       [ 0.25408062,  0.60773023,  0.30832601,  0.03612622,  2.83827081]])"
      ]
     },
     "execution_count": 25,
     "metadata": {},
     "output_type": "execute_result"
    }
   ],
   "source": [
    "from sklearn.preprocessing import StandardScaler\n",
    "\n",
    "sc = StandardScaler()\n",
    "\n",
    "X_train = sc.fit_transform(X_train)\n",
    "X_test = sc.transform(X_test)\n",
    "\n",
    "X_train"
   ]
  },
  {
   "cell_type": "code",
   "execution_count": 26,
   "id": "e8bec35c",
   "metadata": {},
   "outputs": [
    {
     "data": {
      "text/plain": [
       "GaussianNB()"
      ]
     },
     "execution_count": 26,
     "metadata": {},
     "output_type": "execute_result"
    }
   ],
   "source": [
    "from sklearn.naive_bayes import GaussianNB\n",
    "gnb = GaussianNB()\n",
    "gnb.fit(X_train, y_train)"
   ]
  },
  {
   "cell_type": "code",
   "execution_count": 27,
   "id": "4f86f7d1",
   "metadata": {},
   "outputs": [],
   "source": [
    "y_pred = gnb.predict(X_test)\n",
    "#print(y_pred)"
   ]
  },
  {
   "cell_type": "code",
   "execution_count": 28,
   "id": "27ca90f7",
   "metadata": {},
   "outputs": [
    {
     "data": {
      "text/plain": [
       "array([['Denmark', 'Denmark'],\n",
       "       ['Sweden', 'Austria'],\n",
       "       ['Belgium', 'Belgium'],\n",
       "       ['Belgium', 'Belgium'],\n",
       "       ['Sweden', 'Sweden'],\n",
       "       ['Sweden', 'Sweden'],\n",
       "       ['Denmark', 'Denmark'],\n",
       "       ['Belgium', 'Belgium'],\n",
       "       ['Ireland', 'Ireland'],\n",
       "       ['Belgium', 'Belgium']], dtype=object)"
      ]
     },
     "execution_count": 28,
     "metadata": {},
     "output_type": "execute_result"
    }
   ],
   "source": [
    "y_compare = np.vstack((y_test, y_pred)).T\n",
    "y_compare[:10, :]"
   ]
  },
  {
   "cell_type": "code",
   "execution_count": 29,
   "id": "10fcd2c3",
   "metadata": {},
   "outputs": [
    {
     "name": "stdout",
     "output_type": "stream",
     "text": [
      "              precision    recall  f1-score   support\n",
      "\n",
      "     Austria       0.86      0.91      0.89        47\n",
      "     Belgium       0.98      0.92      0.95        49\n",
      "     Denmark       1.00      1.00      1.00        57\n",
      "     Ireland       1.00      1.00      1.00        55\n",
      "      Sweden       0.86      0.86      0.86        58\n",
      "\n",
      "    accuracy                           0.94       266\n",
      "   macro avg       0.94      0.94      0.94       266\n",
      "weighted avg       0.94      0.94      0.94       266\n",
      "\n"
     ]
    },
    {
     "data": {
      "image/png": "[encoded data removed]",
      "text/plain": [
       "<Figure size 432x288 with 2 Axes>"
      ]
     },
     "metadata": {
      "needs_background": "light"
     },
     "output_type": "display_data"
    }
   ],
   "source": [
    "from sklearn.metrics import classification_report, confusion_matrix\n",
    "import seaborn as sns\n",
    "\n",
    "# Calculate cm by calling a method named as 'confusion_matrix'\n",
    "cm = confusion_matrix(y_test, y_pred)\n",
    "\n",
    "# Call a method heatmap() to plot confusion matrix\n",
    "sns.heatmap(cm, annot = True)\n",
    "plt.title(\"Confusion_matrix GaussianNB\")\n",
    "# print the classification_report based on y_test and y_predict\n",
    "print(classification_report(y_test, y_pred))"
   ]
  },
  {
   "cell_type": "code",
   "execution_count": 30,
   "id": "d633c1ce",
   "metadata": {},
   "outputs": [
    {
     "name": "stdout",
     "output_type": "stream",
     "text": [
      "Correct predictions:  250\n",
      "False predictions 16\n",
      "\n",
      "\n",
      "Accuracy of the Naive Bayes Clasification is:  0.9398496240601504\n"
     ]
    }
   ],
   "source": [
    "rowsCols = cm.shape\n",
    "corrPred = 0\n",
    "falsePred = 0\n",
    "\n",
    "for row in range(rowsCols[0]):\n",
    "    for col in range(rowsCols[1]):\n",
    "        if row == col:\n",
    "            corrPred += cm[row, col]\n",
    "        else:\n",
    "            falsePred += cm[row, col]\n",
    "print('Correct predictions: ', corrPred)\n",
    "print('False predictions', falsePred)\n",
    "print ('\\n\\nAccuracy of the Naive Bayes Clasification is: ', corrPred/(cm.sum())) "
   ]
  },
  {
   "cell_type": "markdown",
   "id": "5c20f3cf",
   "metadata": {},
   "source": [
    "# cross_val_score GaussianNB"
   ]
  },
  {
   "cell_type": "code",
   "execution_count": 47,
   "id": "29a43188",
   "metadata": {},
   "outputs": [
    {
     "data": {
      "text/plain": [
       "0.9097744360902256"
      ]
     },
     "execution_count": 47,
     "metadata": {},
     "output_type": "execute_result"
    }
   ],
   "source": [
    "from sklearn.model_selection import cross_val_score\n",
    "gnb = GaussianNB()\n",
    "cross_val_score(gnb, X, y, scoring='accuracy', cv = 5).mean()"
   ]
  },
  {
   "cell_type": "markdown",
   "id": "d3bb2441",
   "metadata": {},
   "source": [
    "# DATA SET TO STATISTICS"
   ]
  },
  {
   "cell_type": "code",
   "execution_count": 33,
   "id": "6e7086b0",
   "metadata": {},
   "outputs": [],
   "source": [
    "# It was created a special data set with data relevante para hypothesis test and was downloaded in order to do calculus on excel \n",
    "\n",
    "df = pd.DataFrame(milk_delivered_to_dairies)"
   ]
  },
  {
   "cell_type": "code",
   "execution_count": 34,
   "id": "e118e7b9",
   "metadata": {},
   "outputs": [],
   "source": [
    "df.to_csv(r'C:\\Users\\fenix\\milk_delivered_to_dairies.csv', index=False)\n"
   ]
  },
  {
   "cell_type": "code",
   "execution_count": null,
   "id": "4405265a",
   "metadata": {},
   "outputs": [],
   "source": []
  }
 ],
 "metadata": {
  "kernelspec": {
   "display_name": "Python 3 (ipykernel)",
   "language": "python",
   "name": "python3"
  },
  "language_info": {
   "codemirror_mode": {
    "name": "ipython",
    "version": 3
   },
   "file_extension": ".py",
   "mimetype": "text/x-python",
   "name": "python",
   "nbconvert_exporter": "python",
   "pygments_lexer": "ipython3",
   "version": "3.9.7"
  }
 },
 "nbformat": 4,
 "nbformat_minor": 5
}
