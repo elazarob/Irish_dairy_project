{
 "cells": [
  {
   "cell_type": "markdown",
   "id": "2f895b8c",
   "metadata": {},
   "source": [
    "# CLASIFICATIONS MODELS "
   ]
  },
  {
   "cell_type": "code",
   "execution_count": 1,
   "id": "3ac50a12",
   "metadata": {},
   "outputs": [],
   "source": [
    "import pandas as pd\n",
    "import numpy as np\n",
    "import seaborn as sns\n",
    "import matplotlib.pyplot as plt\n",
    "import sklearn.preprocessing as preproc  \n",
    "import pingouin as pg\n",
    "from sklearn.model_selection import train_test_split\n"
   ]
  },
  {
   "cell_type": "code",
   "execution_count": 2,
   "id": "4def1655",
   "metadata": {},
   "outputs": [],
   "source": [
    "missing_value_formats = [\"n.a.\",\"?\",\"NA\",\":\", \"na\", \"--\"]\n",
    "df = pd.read_csv(\"apro_mk_colm_1_Data.csv\", na_values = missing_value_formats)"
   ]
  },
  {
   "cell_type": "code",
   "execution_count": 3,
   "id": "5820bbba",
   "metadata": {},
   "outputs": [
    {
     "name": "stdout",
     "output_type": "stream",
     "text": [
      "<class 'pandas.core.frame.DataFrame'>\n",
      "RangeIndex: 176220 entries, 0 to 176219\n",
      "Data columns (total 6 columns):\n",
      " #   Column              Non-Null Count   Dtype  \n",
      "---  ------              --------------   -----  \n",
      " 0   TIME                176220 non-null  object \n",
      " 1   GEO                 176220 non-null  object \n",
      " 2   DAIRYPROD           176220 non-null  object \n",
      " 3   UNIT                176220 non-null  object \n",
      " 4   Value               58156 non-null   float64\n",
      " 5   Flag and Footnotes  14097 non-null   object \n",
      "dtypes: float64(1), object(5)\n",
      "memory usage: 8.1+ MB\n"
     ]
    }
   ],
   "source": [
    "df.info()"
   ]
  },
  {
   "cell_type": "code",
   "execution_count": 4,
   "id": "d15034a0",
   "metadata": {},
   "outputs": [
    {
     "data": {
      "text/html": [
       "<div>\n",
       "<style scoped>\n",
       "    .dataframe tbody tr th:only-of-type {\n",
       "        vertical-align: middle;\n",
       "    }\n",
       "\n",
       "    .dataframe tbody tr th {\n",
       "        vertical-align: top;\n",
       "    }\n",
       "\n",
       "    .dataframe thead th {\n",
       "        text-align: right;\n",
       "    }\n",
       "</style>\n",
       "<table border=\"1\" class=\"dataframe\">\n",
       "  <thead>\n",
       "    <tr style=\"text-align: right;\">\n",
       "      <th></th>\n",
       "      <th>TIME</th>\n",
       "      <th>GEO</th>\n",
       "      <th>DAIRYPROD</th>\n",
       "      <th>UNIT</th>\n",
       "      <th>Value</th>\n",
       "      <th>Flag and Footnotes</th>\n",
       "    </tr>\n",
       "  </thead>\n",
       "  <tbody>\n",
       "    <tr>\n",
       "      <th>0</th>\n",
       "      <td>2000M01</td>\n",
       "      <td>European Union - 27 countries (from 2020)</td>\n",
       "      <td>Raw cows' milk delivered to dairies</td>\n",
       "      <td>Thousand tonnes</td>\n",
       "      <td>NaN</td>\n",
       "      <td>NaN</td>\n",
       "    </tr>\n",
       "    <tr>\n",
       "      <th>1</th>\n",
       "      <td>2000M01</td>\n",
       "      <td>European Union - 27 countries (from 2020)</td>\n",
       "      <td>Raw cows' milk delivered to dairies</td>\n",
       "      <td>Fat content (% of product weight)</td>\n",
       "      <td>NaN</td>\n",
       "      <td>NaN</td>\n",
       "    </tr>\n",
       "    <tr>\n",
       "      <th>2</th>\n",
       "      <td>2000M01</td>\n",
       "      <td>European Union - 27 countries (from 2020)</td>\n",
       "      <td>Raw cows' milk delivered to dairies</td>\n",
       "      <td>Protein content (% of product weight)</td>\n",
       "      <td>NaN</td>\n",
       "      <td>NaN</td>\n",
       "    </tr>\n",
       "    <tr>\n",
       "      <th>3</th>\n",
       "      <td>2000M01</td>\n",
       "      <td>European Union - 27 countries (from 2020)</td>\n",
       "      <td>Raw cream delivered to dairies (in milk equiva...</td>\n",
       "      <td>Thousand tonnes</td>\n",
       "      <td>NaN</td>\n",
       "      <td>NaN</td>\n",
       "    </tr>\n",
       "    <tr>\n",
       "      <th>4</th>\n",
       "      <td>2000M01</td>\n",
       "      <td>European Union - 27 countries (from 2020)</td>\n",
       "      <td>Raw cream delivered to dairies (in milk equiva...</td>\n",
       "      <td>Fat content (% of product weight)</td>\n",
       "      <td>NaN</td>\n",
       "      <td>NaN</td>\n",
       "    </tr>\n",
       "  </tbody>\n",
       "</table>\n",
       "</div>"
      ],
      "text/plain": [
       "      TIME                                        GEO  \\\n",
       "0  2000M01  European Union - 27 countries (from 2020)   \n",
       "1  2000M01  European Union - 27 countries (from 2020)   \n",
       "2  2000M01  European Union - 27 countries (from 2020)   \n",
       "3  2000M01  European Union - 27 countries (from 2020)   \n",
       "4  2000M01  European Union - 27 countries (from 2020)   \n",
       "\n",
       "                                           DAIRYPROD  \\\n",
       "0                Raw cows' milk delivered to dairies   \n",
       "1                Raw cows' milk delivered to dairies   \n",
       "2                Raw cows' milk delivered to dairies   \n",
       "3  Raw cream delivered to dairies (in milk equiva...   \n",
       "4  Raw cream delivered to dairies (in milk equiva...   \n",
       "\n",
       "                                    UNIT  Value Flag and Footnotes  \n",
       "0                        Thousand tonnes    NaN                NaN  \n",
       "1      Fat content (% of product weight)    NaN                NaN  \n",
       "2  Protein content (% of product weight)    NaN                NaN  \n",
       "3                        Thousand tonnes    NaN                NaN  \n",
       "4      Fat content (% of product weight)    NaN                NaN  "
      ]
     },
     "execution_count": 4,
     "metadata": {},
     "output_type": "execute_result"
    }
   ],
   "source": [
    "df.head()"
   ]
  },
  {
   "cell_type": "markdown",
   "id": "d350dc8d",
   "metadata": {},
   "source": [
    "# CLEANING"
   ]
  },
  {
   "cell_type": "code",
   "execution_count": 5,
   "id": "9359cc17",
   "metadata": {},
   "outputs": [],
   "source": [
    "#delete columns and change names of columns\n",
    "\n",
    "df = df.rename(columns={\"GEO\": \"Country\"})\n",
    "df = df.drop([\"Flag and Footnotes\"], axis=1)\n"
   ]
  },
  {
   "cell_type": "code",
   "execution_count": 6,
   "id": "4c6b562a",
   "metadata": {},
   "outputs": [
    {
     "data": {
      "text/plain": [
       "array(['European Union - 27 countries (from 2020)',\n",
       "       'European Union - 28 countries (2013-2020)',\n",
       "       'European Union - 27 countries (2007-2013)',\n",
       "       'European Union - 25 countries (2004-2006)',\n",
       "       'European Union - 15 countries (1995-2004)', 'Belgium', 'Bulgaria',\n",
       "       'Czechia', 'Denmark',\n",
       "       'Germany (until 1990 former territory of the FRG)', 'Estonia',\n",
       "       'Ireland', 'Greece', 'Spain', 'France', 'Croatia', 'Italy',\n",
       "       'Cyprus', 'Latvia', 'Lithuania', 'Luxembourg', 'Hungary', 'Malta',\n",
       "       'Netherlands', 'Austria', 'Poland', 'Portugal', 'Romania',\n",
       "       'Slovenia', 'Slovakia', 'Finland', 'Sweden',\n",
       "       'European Economic Area (EEA18-1995, EEA28-2004, EEA30-2007, EEA31-2013, EEA30-2020)',\n",
       "       'European Free Trade Association', 'Iceland', 'Norway',\n",
       "       'Switzerland', 'United Kingdom', 'Montenegro', 'North Macedonia',\n",
       "       'Albania', 'Serbia', 'Turkey', 'Bosnia and Herzegovina'],\n",
       "      dtype=object)"
      ]
     },
     "execution_count": 6,
     "metadata": {},
     "output_type": "execute_result"
    }
   ],
   "source": [
    "#identify countries for the study\n",
    "\n",
    "df.Country.unique() "
   ]
  },
  {
   "cell_type": "code",
   "execution_count": 7,
   "id": "9794940c",
   "metadata": {},
   "outputs": [
    {
     "name": "stderr",
     "output_type": "stream",
     "text": [
      "C:\\Users\\fenix\\AppData\\Local\\Temp/ipykernel_10848/3404780919.py:3: FutureWarning: The default value of regex will change from True to False in a future version.\n",
      "  df[\"DAIRYPROD\"]=df[\"DAIRYPROD\"].str.replace(\"[^\\w\\s]\",\"\")\n"
     ]
    }
   ],
   "source": [
    "#some countries have special characteres\n",
    "\n",
    "df[\"DAIRYPROD\"]=df[\"DAIRYPROD\"].str.replace(\"[^\\w\\s]\",\"\")\n",
    "#df[\"Value\"]=df[\"Value\"].str.replace(\"[^\\w\\,]\",\"\")\n",
    "\n"
   ]
  },
  {
   "cell_type": "code",
   "execution_count": 8,
   "id": "bc2f99b9",
   "metadata": {},
   "outputs": [
    {
     "name": "stderr",
     "output_type": "stream",
     "text": [
      "C:\\Users\\fenix\\AppData\\Local\\Temp/ipykernel_10848/2944127415.py:6: UserWarning: Boolean Series key will be reindexed to match DataFrame index.\n",
      "  df1= df1[df['DAIRYPROD'].isin(dairy_list)]\n"
     ]
    }
   ],
   "source": [
    "#filter countries and data \n",
    "\n",
    "country_list = ['Belgium',\"Denmark\",\"Sweden\",\"Ireland\",\"Austria\"]\n",
    "df1 = df[df['Country'].isin(country_list)]\n",
    "dairy_list = [\"Raw cows milk delivered to dairies\",\"Drinking milk\",\"Cream for direct consumption\"]\n",
    "df1= df1[df['DAIRYPROD'].isin(dairy_list)]\n"
   ]
  },
  {
   "cell_type": "code",
   "execution_count": 9,
   "id": "6f3659cc",
   "metadata": {},
   "outputs": [
    {
     "data": {
      "text/html": [
       "<div>\n",
       "<style scoped>\n",
       "    .dataframe tbody tr th:only-of-type {\n",
       "        vertical-align: middle;\n",
       "    }\n",
       "\n",
       "    .dataframe tbody tr th {\n",
       "        vertical-align: top;\n",
       "    }\n",
       "\n",
       "    .dataframe thead th {\n",
       "        text-align: right;\n",
       "    }\n",
       "</style>\n",
       "<table border=\"1\" class=\"dataframe\">\n",
       "  <thead>\n",
       "    <tr style=\"text-align: right;\">\n",
       "      <th></th>\n",
       "      <th>TIME</th>\n",
       "      <th>Country</th>\n",
       "      <th>DAIRYPROD</th>\n",
       "      <th>UNIT</th>\n",
       "      <th>Value</th>\n",
       "    </tr>\n",
       "  </thead>\n",
       "  <tbody>\n",
       "    <tr>\n",
       "      <th>75</th>\n",
       "      <td>2000M01</td>\n",
       "      <td>Belgium</td>\n",
       "      <td>Raw cows milk delivered to dairies</td>\n",
       "      <td>Thousand tonnes</td>\n",
       "      <td>260.02</td>\n",
       "    </tr>\n",
       "    <tr>\n",
       "      <th>76</th>\n",
       "      <td>2000M01</td>\n",
       "      <td>Belgium</td>\n",
       "      <td>Raw cows milk delivered to dairies</td>\n",
       "      <td>Fat content (% of product weight)</td>\n",
       "      <td>4.18</td>\n",
       "    </tr>\n",
       "    <tr>\n",
       "      <th>77</th>\n",
       "      <td>2000M01</td>\n",
       "      <td>Belgium</td>\n",
       "      <td>Raw cows milk delivered to dairies</td>\n",
       "      <td>Protein content (% of product weight)</td>\n",
       "      <td>3.34</td>\n",
       "    </tr>\n",
       "    <tr>\n",
       "      <th>81</th>\n",
       "      <td>2000M01</td>\n",
       "      <td>Belgium</td>\n",
       "      <td>Drinking milk</td>\n",
       "      <td>Thousand tonnes</td>\n",
       "      <td>53.93</td>\n",
       "    </tr>\n",
       "    <tr>\n",
       "      <th>84</th>\n",
       "      <td>2000M01</td>\n",
       "      <td>Belgium</td>\n",
       "      <td>Cream for direct consumption</td>\n",
       "      <td>Thousand tonnes</td>\n",
       "      <td>5.50</td>\n",
       "    </tr>\n",
       "  </tbody>\n",
       "</table>\n",
       "</div>"
      ],
      "text/plain": [
       "       TIME  Country                           DAIRYPROD  \\\n",
       "75  2000M01  Belgium  Raw cows milk delivered to dairies   \n",
       "76  2000M01  Belgium  Raw cows milk delivered to dairies   \n",
       "77  2000M01  Belgium  Raw cows milk delivered to dairies   \n",
       "81  2000M01  Belgium                       Drinking milk   \n",
       "84  2000M01  Belgium        Cream for direct consumption   \n",
       "\n",
       "                                     UNIT   Value  \n",
       "75                        Thousand tonnes  260.02  \n",
       "76      Fat content (% of product weight)    4.18  \n",
       "77  Protein content (% of product weight)    3.34  \n",
       "81                        Thousand tonnes   53.93  \n",
       "84                        Thousand tonnes    5.50  "
      ]
     },
     "execution_count": 9,
     "metadata": {},
     "output_type": "execute_result"
    }
   ],
   "source": [
    "#drop na and duplicates\n",
    "\n",
    "df1=df1.dropna(subset=[\"Value\"])\n",
    "df = df1.drop_duplicates()\n",
    "df.head()"
   ]
  },
  {
   "cell_type": "code",
   "execution_count": 10,
   "id": "4e4b7854",
   "metadata": {},
   "outputs": [],
   "source": [
    "#step before merging and melting, we need to change the layout of the dataset.\n",
    "\n",
    "milk_delivered_to_dairies=df.query(\"DAIRYPROD=='Raw cows milk delivered to dairies'\")\n",
    "milk_delivered_to_dairies = milk_delivered_to_dairies.drop([\"DAIRYPROD\"], axis=1)\n",
    "\n",
    "\n",
    "drinking_milk=df.query(\"DAIRYPROD=='Drinking milk'\")\n",
    "drinking_milk = drinking_milk.drop([\"DAIRYPROD\"], axis=1)\n",
    "\n",
    "cream =df.query(\"DAIRYPROD=='Cream for direct consumption'\")\n",
    "cream = cream.drop([\"DAIRYPROD\"], axis=1)\n",
    "\n"
   ]
  },
  {
   "cell_type": "code",
   "execution_count": 11,
   "id": "63f9054f",
   "metadata": {},
   "outputs": [],
   "source": [
    "#second step before merging and melting, in order to change the layout of the dataset.\n",
    "\n",
    "\n",
    "milk_delivered_to_dairies_tonnes=milk_delivered_to_dairies.query(\"UNIT=='Thousand tonnes'\")\n",
    "milk_delivered_to_dairies_Fat=milk_delivered_to_dairies.query(\"UNIT=='Fat content (% of product weight)'\")\n",
    "milk_delivered_to_dairies_Protein=milk_delivered_to_dairies.query(\"UNIT=='Protein content (% of product weight)'\")\n",
    "\n",
    "\n",
    "milk_delivered_to_dairies_tonnes = milk_delivered_to_dairies_tonnes.rename(columns={\"Value\": \"Thousand_tonnes_to_dairies\"})\n",
    "milk_delivered_to_dairies_Fat=milk_delivered_to_dairies_Fat.rename(columns={\"Value\": \"Fat_content\"})\n",
    "milk_delivered_to_dairies_Protein=milk_delivered_to_dairies_Protein.rename(columns={\"Value\": \"Protein_content\"})\n",
    "drinking_milk=drinking_milk.rename(columns={\"Value\": \"drinking_milk\"})\n",
    "cream=cream.rename(columns={\"Value\": \"Cream\"})\n",
    "\n",
    "\n",
    "\n",
    "#columns are not necesary \n",
    "milk_delivered_to_dairies_tonnes = milk_delivered_to_dairies_tonnes.drop([\"UNIT\"], axis=1)\n",
    "milk_delivered_to_dairies_Fat = milk_delivered_to_dairies_Fat.drop([\"UNIT\"], axis=1)\n",
    "milk_delivered_to_dairies_Protein = milk_delivered_to_dairies_Protein.drop([\"UNIT\"], axis=1)\n",
    "drinking_milk=drinking_milk.drop([\"UNIT\"], axis=1)\n",
    "cream=cream.drop([\"UNIT\"], axis=1)\n"
   ]
  },
  {
   "cell_type": "code",
   "execution_count": 12,
   "id": "cb19021c",
   "metadata": {},
   "outputs": [
    {
     "data": {
      "text/html": [
       "<div>\n",
       "<style scoped>\n",
       "    .dataframe tbody tr th:only-of-type {\n",
       "        vertical-align: middle;\n",
       "    }\n",
       "\n",
       "    .dataframe tbody tr th {\n",
       "        vertical-align: top;\n",
       "    }\n",
       "\n",
       "    .dataframe thead th {\n",
       "        text-align: right;\n",
       "    }\n",
       "</style>\n",
       "<table border=\"1\" class=\"dataframe\">\n",
       "  <thead>\n",
       "    <tr style=\"text-align: right;\">\n",
       "      <th></th>\n",
       "      <th>TIME</th>\n",
       "      <th>Country</th>\n",
       "      <th>Cream</th>\n",
       "    </tr>\n",
       "  </thead>\n",
       "  <tbody>\n",
       "    <tr>\n",
       "      <th>84</th>\n",
       "      <td>2000M01</td>\n",
       "      <td>Belgium</td>\n",
       "      <td>5.5</td>\n",
       "    </tr>\n",
       "    <tr>\n",
       "      <th>129</th>\n",
       "      <td>2000M01</td>\n",
       "      <td>Denmark</td>\n",
       "      <td>4.6</td>\n",
       "    </tr>\n",
       "    <tr>\n",
       "      <th>174</th>\n",
       "      <td>2000M01</td>\n",
       "      <td>Ireland</td>\n",
       "      <td>0.7</td>\n",
       "    </tr>\n",
       "    <tr>\n",
       "      <th>369</th>\n",
       "      <td>2000M01</td>\n",
       "      <td>Austria</td>\n",
       "      <td>4.0</td>\n",
       "    </tr>\n",
       "    <tr>\n",
       "      <th>474</th>\n",
       "      <td>2000M01</td>\n",
       "      <td>Sweden</td>\n",
       "      <td>7.3</td>\n",
       "    </tr>\n",
       "  </tbody>\n",
       "</table>\n",
       "</div>"
      ],
      "text/plain": [
       "        TIME  Country  Cream\n",
       "84   2000M01  Belgium    5.5\n",
       "129  2000M01  Denmark    4.6\n",
       "174  2000M01  Ireland    0.7\n",
       "369  2000M01  Austria    4.0\n",
       "474  2000M01   Sweden    7.3"
      ]
     },
     "execution_count": 12,
     "metadata": {},
     "output_type": "execute_result"
    }
   ],
   "source": [
    "#We created 5 datasets that they will be combining in the next step.\n",
    "\n",
    "#milk_delivered_to_dairies_tonnes.head()\n",
    "#milk_delivered_to_dairies_Fat.head()\n",
    "#milk_delivered_to_dairies_Protein.head()\n",
    "cream.head()\n"
   ]
  },
  {
   "cell_type": "markdown",
   "id": "8f4bacd6",
   "metadata": {},
   "source": [
    "# COMBINING DATA "
   ]
  },
  {
   "cell_type": "code",
   "execution_count": 13,
   "id": "4712a2f7",
   "metadata": {},
   "outputs": [],
   "source": [
    "milk_delivered_to_dairies=pd.merge(milk_delivered_to_dairies_tonnes , milk_delivered_to_dairies_Fat ,on=[\"TIME\",\"Country\"]) #INNER MERGE\n",
    "milk_delivered_to_dairies=pd.merge(milk_delivered_to_dairies , milk_delivered_to_dairies_Protein, on=[\"TIME\",\"Country\"])\n",
    "dairy_production=pd.merge(milk_delivered_to_dairies , drinking_milk, on=[\"TIME\",\"Country\"])\n",
    "dairy_production=pd.merge(dairy_production , cream, on=[\"TIME\",\"Country\"])"
   ]
  },
  {
   "cell_type": "code",
   "execution_count": 14,
   "id": "dd0697cc",
   "metadata": {},
   "outputs": [
    {
     "name": "stdout",
     "output_type": "stream",
     "text": [
      "<class 'pandas.core.frame.DataFrame'>\n",
      "Int64Index: 1330 entries, 0 to 1329\n",
      "Data columns (total 7 columns):\n",
      " #   Column                      Non-Null Count  Dtype  \n",
      "---  ------                      --------------  -----  \n",
      " 0   TIME                        1330 non-null   object \n",
      " 1   Country                     1330 non-null   object \n",
      " 2   Thousand_tonnes_to_dairies  1330 non-null   float64\n",
      " 3   Fat_content                 1330 non-null   float64\n",
      " 4   Protein_content             1330 non-null   float64\n",
      " 5   drinking_milk               1330 non-null   float64\n",
      " 6   Cream                       1330 non-null   float64\n",
      "dtypes: float64(5), object(2)\n",
      "memory usage: 83.1+ KB\n"
     ]
    }
   ],
   "source": [
    "\n",
    "dairy_production.info() #machine learning database"
   ]
  },
  {
   "cell_type": "code",
   "execution_count": 15,
   "id": "8e026e88",
   "metadata": {},
   "outputs": [
    {
     "data": {
      "text/plain": [
       "Text(0.5, 1.0, 'Correlation')"
      ]
     },
     "execution_count": 15,
     "metadata": {},
     "output_type": "execute_result"
    },
    {
     "data": {
      "image/png": "[encoded data removed]",
      "text/plain": [
       "<Figure size 432x288 with 2 Axes>"
      ]
     },
     "metadata": {
      "needs_background": "light"
     },
     "output_type": "display_data"
    }
   ],
   "source": [
    "dataplot = sns.heatmap(dairy_production.corr(), cmap=\"YlGnBu\", annot=True)\n",
    "plt.title('Correlation', fontsize = 20)\n",
    "\n"
   ]
  },
  {
   "cell_type": "markdown",
   "id": "7126e3ea",
   "metadata": {},
   "source": [
    "# KNeighborsClassifier"
   ]
  },
  {
   "cell_type": "code",
   "execution_count": 16,
   "id": "de450f02",
   "metadata": {},
   "outputs": [],
   "source": [
    "#dairy_production_k = dairy_production[['TIME','Thousand tonnes to dairies','Fat content','Protein content','drinking_milk','Cream']]\n",
    "dairy_production_k = dairy_production.reindex(columns=['Thousand_tonnes_to_dairies','Fat_content','Protein_content','drinking_milk','Cream','Country'])\n"
   ]
  },
  {
   "cell_type": "code",
   "execution_count": 17,
   "id": "3540a786",
   "metadata": {},
   "outputs": [
    {
     "name": "stdout",
     "output_type": "stream",
     "text": [
      "accuracy:  0.8120300751879699\n"
     ]
    }
   ],
   "source": [
    "\n",
    "\n",
    "from sklearn.model_selection import train_test_split \n",
    "from sklearn.neighbors import KNeighborsClassifier\n",
    "\n",
    "X = dairy_production_k.iloc[:,:4]\n",
    "y = dairy_production_k.iloc[:,5]\n",
    "# split into test and train dataset, and use random_state=48\n",
    "X_train, X_test, y_train, y_test = train_test_split(X, y,test_size=0.2, random_state=42)\n",
    "# build KNN model and choose n_neighbors = 5\n",
    "knn = KNeighborsClassifier(n_neighbors = 3)\n",
    "# train the model\n",
    "knn.fit(X_train, y_train)\n",
    "# get the predict value from X_test\n",
    "y_pred = knn.predict(X_test)\n",
    "# print the score\n",
    "print('accuracy: ', knn.score(X_test, y_test))\n",
    "# accuracy:  0.973684210526"
   ]
  },
  {
   "cell_type": "code",
   "execution_count": 18,
   "id": "891b3f94",
   "metadata": {},
   "outputs": [],
   "source": [
    "neighbors = np.arange(1, 9)                  # number of neighbors\n",
    "train_accuracy = np.zeros(len(neighbors))    # Declare and initialise the matrix\n",
    "test_accuracy = np.zeros(len(neighbors))   "
   ]
  },
  {
   "cell_type": "code",
   "execution_count": 19,
   "id": "a0595c89",
   "metadata": {},
   "outputs": [],
   "source": [
    "for i,k in enumerate(neighbors):                          # for loop that checks the model for neighbor values 1, 2, 3, ..., 9\n",
    "    knn = KNeighborsClassifier(n_neighbors = k)           # Initialise an object knn using KNeighborsClassifier method\n",
    "\n",
    "    #Fit the model\n",
    "    knn.fit(X_train, y_train)                      # Call fit method to implement the ML KNeighborsClassifier model\n",
    "\n",
    "    #Compute accuracy on the training set\n",
    "    train_accuracy[i] = knn.score(X_train, y_train)   # Save the score value in the train_accuracy array\n",
    "\n",
    "    #Compute accuracy on the test set\n",
    "    test_accuracy[i] = knn.score(X_test, y_test) "
   ]
  },
  {
   "cell_type": "code",
   "execution_count": 20,
   "id": "f65ffd34",
   "metadata": {},
   "outputs": [
    {
     "data": {
      "image/png": "[encoded data removed]",
      "text/plain": [
       "<Figure size 720x432 with 1 Axes>"
      ]
     },
     "metadata": {
      "needs_background": "light"
     },
     "output_type": "display_data"
    }
   ],
   "source": [
    "# Delcare the size of the array\n",
    "plt.figure(figsize = (10, 6))\n",
    "plt.title('KNN accuracy with varying number of neighbors', fontsize = 20)\n",
    "plt.plot(neighbors, test_accuracy, label = 'Testing Accuracy')\n",
    "plt.plot(neighbors, train_accuracy, label = 'Training accuracy')\n",
    "plt.legend(prop = {'size': 20})\n",
    "plt.xlabel('Number of neighbors', fontsize = 20)\n",
    "plt.ylabel('Accuracy', fontsize = 20)\n",
    "plt.xticks(fontsize = 20)\n",
    "plt.yticks(fontsize = 20)\n",
    "plt.show()"
   ]
  },
  {
   "cell_type": "code",
   "execution_count": 21,
   "id": "9c0c4815",
   "metadata": {},
   "outputs": [
    {
     "name": "stdout",
     "output_type": "stream",
     "text": [
      "              precision    recall  f1-score   support\n",
      "\n",
      "     Austria       0.65      0.69      0.67        54\n",
      "     Belgium       0.85      0.80      0.83        51\n",
      "     Denmark       0.91      0.98      0.94        59\n",
      "     Ireland       0.89      0.83      0.86        48\n",
      "      Sweden       0.77      0.74      0.75        54\n",
      "\n",
      "    accuracy                           0.81       266\n",
      "   macro avg       0.81      0.81      0.81       266\n",
      "weighted avg       0.81      0.81      0.81       266\n",
      "\n"
     ]
    },
    {
     "data": {
      "image/png": "[encoded data removed]",
      "text/plain": [
       "<Figure size 432x288 with 2 Axes>"
      ]
     },
     "metadata": {
      "needs_background": "light"
     },
     "output_type": "display_data"
    }
   ],
   "source": [
    "from sklearn.metrics import classification_report, confusion_matrix\n",
    "import seaborn as sns\n",
    "\n",
    "# Calculate cm by calling a method named as 'confusion_matrix'\n",
    "cm = confusion_matrix(y_test, y_pred)\n",
    "\n",
    "# Call a method heatmap() to plot confusion matrix\n",
    "sns.heatmap(cm, annot = True)\n",
    "plt.title(\"Confusion_matrix KNN\")\n",
    "\n",
    "# print the classification_report based on y_test and y_predict\n",
    "print(classification_report(y_test, y_pred))"
   ]
  },
  {
   "cell_type": "markdown",
   "id": "2d562274",
   "metadata": {},
   "source": [
    "# cross_val_score KNeighborsClassifier"
   ]
  },
  {
   "cell_type": "code",
   "execution_count": 22,
   "id": "ade497f1",
   "metadata": {},
   "outputs": [
    {
     "name": "stdout",
     "output_type": "stream",
     "text": [
      "[0.7406015  0.7481203  0.78195489 0.77443609 0.59774436]\n",
      "0.7285714285714286\n"
     ]
    }
   ],
   "source": [
    "# import k-folder\n",
    "from sklearn.model_selection import cross_val_score # use the same model as before\n",
    "knn = KNeighborsClassifier(n_neighbors = 3)\n",
    "# X,y will automatically devided by 4 folder, the scoring I will still use the accuracy\n",
    "scores = cross_val_score(knn, X,y, cv=5, scoring='accuracy')\n",
    "# print all 5 times scores \n",
    "print(scores)\n",
    "# [ 0.96666667  1.          0.93333333  0.96666667  1.        ]\n",
    "# then I will do the average about these five scores to get more accuracy score.\n",
    "print(scores.mean())\n",
    "# 0.973333333333"
   ]
  },
  {
   "cell_type": "markdown",
   "id": "3fb301d9",
   "metadata": {},
   "source": [
    "# GaussianNB"
   ]
  },
  {
   "cell_type": "code",
   "execution_count": 23,
   "id": "49ba9f97",
   "metadata": {},
   "outputs": [
    {
     "name": "stderr",
     "output_type": "stream",
     "text": [
      "C:\\Users\\fenix\\AppData\\Local\\Temp/ipykernel_10848/2092287471.py:3: FutureWarning: In a future version of pandas all arguments of DataFrame.drop except for the argument 'labels' will be keyword-only\n",
      "  X = np.asarray(dairy_production_k.drop('Country', 1))\n"
     ]
    },
    {
     "data": {
      "text/plain": [
       "(array([[260.02,   4.18,   3.34,  53.93,   5.5 ],\n",
       "        [374.5 ,   4.4 ,   3.43,  45.2 ,   4.6 ],\n",
       "        [122.4 ,   3.73,   3.09,  44.7 ,   0.7 ],\n",
       "        ...,\n",
       "        [365.74,   4.43,   3.43,  37.14,   1.35],\n",
       "        [264.78,   4.3 ,   3.43,  60.72,   5.52],\n",
       "        [222.41,   4.32,   3.54,  54.71,   5.18]]),\n",
       " array(['Belgium', 'Denmark', 'Ireland', ..., 'Ireland', 'Austria',\n",
       "        'Sweden'], dtype=object))"
      ]
     },
     "execution_count": 23,
     "metadata": {},
     "output_type": "execute_result"
    }
   ],
   "source": [
    "# Spliting the dataset into independent and dependent variables\n",
    "\n",
    "X = np.asarray(dairy_production_k.drop('Country', 1))\n",
    "y = np.asarray(dairy_production_k['Country'])\n",
    "\n",
    "\n",
    "X,y"
   ]
  },
  {
   "cell_type": "code",
   "execution_count": 24,
   "id": "234cb437",
   "metadata": {},
   "outputs": [
    {
     "data": {
      "text/plain": [
       "((1330, 5), (1330,), (1064, 5), (1064,), (266, 5), (266,))"
      ]
     },
     "execution_count": 24,
     "metadata": {},
     "output_type": "execute_result"
    }
   ],
   "source": [
    "from sklearn.model_selection import train_test_split\n",
    "X_train, X_test, y_train, y_test = train_test_split(X, y, test_size = 0.20)\n",
    "X.shape, y.shape, X_train.shape, y_train.shape, X_test.shape, y_test.shape"
   ]
  },
  {
   "cell_type": "code",
   "execution_count": 25,
   "id": "d238efd5",
   "metadata": {},
   "outputs": [
    {
     "data": {
      "text/plain": [
       "array([[ 0.7186279 ,  1.23829218,  2.04867871, -0.85369524, -0.60531207],\n",
       "       [-0.57167684,  0.53680519,  0.52636419,  2.06746053,  0.08202439],\n",
       "       [-0.58903633,  0.28627413, -0.03448853,  0.53341139,  0.52247276],\n",
       "       ...,\n",
       "       [ 0.16713527,  0.9376549 ,  0.36612056, -1.30760145, -0.40780159],\n",
       "       [-0.638796  ,  0.83744247,  1.00709509,  0.17567174, -0.35052355],\n",
       "       [-0.47961517,  0.53680519, -0.51521943,  1.90820869,  0.02672146]])"
      ]
     },
     "execution_count": 25,
     "metadata": {},
     "output_type": "execute_result"
    }
   ],
   "source": [
    "from sklearn.preprocessing import StandardScaler\n",
    "\n",
    "sc = StandardScaler()\n",
    "\n",
    "X_train = sc.fit_transform(X_train)\n",
    "X_test = sc.transform(X_test)\n",
    "\n",
    "X_train"
   ]
  },
  {
   "cell_type": "code",
   "execution_count": 26,
   "id": "e8bec35c",
   "metadata": {},
   "outputs": [
    {
     "data": {
      "text/plain": [
       "GaussianNB()"
      ]
     },
     "execution_count": 26,
     "metadata": {},
     "output_type": "execute_result"
    }
   ],
   "source": [
    "from sklearn.naive_bayes import GaussianNB\n",
    "gnb = GaussianNB()\n",
    "gnb.fit(X_train, y_train)"
   ]
  },
  {
   "cell_type": "code",
   "execution_count": 27,
   "id": "4f86f7d1",
   "metadata": {},
   "outputs": [],
   "source": [
    "y_pred = gnb.predict(X_test)\n",
    "#print(y_pred)"
   ]
  },
  {
   "cell_type": "code",
   "execution_count": 28,
   "id": "27ca90f7",
   "metadata": {},
   "outputs": [
    {
     "data": {
      "text/plain": [
       "array([['Denmark', 'Denmark'],\n",
       "       ['Sweden', 'Sweden'],\n",
       "       ['Sweden', 'Sweden'],\n",
       "       ['Denmark', 'Denmark'],\n",
       "       ['Austria', 'Austria'],\n",
       "       ['Belgium', 'Belgium'],\n",
       "       ['Austria', 'Austria'],\n",
       "       ['Denmark', 'Denmark'],\n",
       "       ['Ireland', 'Ireland'],\n",
       "       ['Belgium', 'Belgium']], dtype=object)"
      ]
     },
     "execution_count": 28,
     "metadata": {},
     "output_type": "execute_result"
    }
   ],
   "source": [
    "y_compare = np.vstack((y_test, y_pred)).T\n",
    "y_compare[:10, :]"
   ]
  },
  {
   "cell_type": "code",
   "execution_count": 29,
   "id": "10fcd2c3",
   "metadata": {},
   "outputs": [
    {
     "name": "stdout",
     "output_type": "stream",
     "text": [
      "              precision    recall  f1-score   support\n",
      "\n",
      "     Austria       0.86      0.94      0.90        64\n",
      "     Belgium       1.00      0.86      0.92        49\n",
      "     Denmark       1.00      1.00      1.00        55\n",
      "     Ireland       1.00      1.00      1.00        48\n",
      "      Sweden       0.82      0.84      0.83        50\n",
      "\n",
      "    accuracy                           0.93       266\n",
      "   macro avg       0.94      0.93      0.93       266\n",
      "weighted avg       0.93      0.93      0.93       266\n",
      "\n"
     ]
    },
    {
     "data": {
      "image/png": "[encoded data removed]",
      "text/plain": [
       "<Figure size 432x288 with 2 Axes>"
      ]
     },
     "metadata": {
      "needs_background": "light"
     },
     "output_type": "display_data"
    }
   ],
   "source": [
    "from sklearn.metrics import classification_report, confusion_matrix\n",
    "import seaborn as sns\n",
    "\n",
    "# Calculate cm by calling a method named as 'confusion_matrix'\n",
    "cm = confusion_matrix(y_test, y_pred)\n",
    "\n",
    "# Call a method heatmap() to plot confusion matrix\n",
    "sns.heatmap(cm, annot = True)\n",
    "plt.title(\"Confusion_matrix GaussianNB\")\n",
    "# print the classification_report based on y_test and y_predict\n",
    "print(classification_report(y_test, y_pred))"
   ]
  },
  {
   "cell_type": "code",
   "execution_count": 30,
   "id": "d633c1ce",
   "metadata": {},
   "outputs": [
    {
     "name": "stdout",
     "output_type": "stream",
     "text": [
      "Correct predictions:  247\n",
      "False predictions 19\n",
      "\n",
      "\n",
      "Accuracy of the Naive Bayes Clasification is:  0.9285714285714286\n"
     ]
    }
   ],
   "source": [
    "rowsCols = cm.shape\n",
    "corrPred = 0\n",
    "falsePred = 0\n",
    "\n",
    "for row in range(rowsCols[0]):\n",
    "    for col in range(rowsCols[1]):\n",
    "        if row == col:\n",
    "            corrPred += cm[row, col]\n",
    "        else:\n",
    "            falsePred += cm[row, col]\n",
    "print('Correct predictions: ', corrPred)\n",
    "print('False predictions', falsePred)\n",
    "print ('\\n\\nAccuracy of the Naive Bayes Clasification is: ', corrPred/(cm.sum())) "
   ]
  },
  {
   "cell_type": "markdown",
   "id": "5c20f3cf",
   "metadata": {},
   "source": [
    "# cross_val_score GaussianNB"
   ]
  },
  {
   "cell_type": "code",
   "execution_count": 31,
   "id": "29a43188",
   "metadata": {},
   "outputs": [
    {
     "data": {
      "text/plain": [
       "0.9097744360902256"
      ]
     },
     "execution_count": 31,
     "metadata": {},
     "output_type": "execute_result"
    }
   ],
   "source": [
    "from sklearn.model_selection import cross_val_score\n",
    "gnb = GaussianNB()\n",
    "cross_val_score(gnb, X, y, scoring='accuracy', cv = 5).mean()"
   ]
  },
  {
   "cell_type": "markdown",
   "id": "8e5d358d",
   "metadata": {},
   "source": [
    "# Regression"
   ]
  },
  {
   "cell_type": "code",
   "execution_count": 32,
   "id": "18343953",
   "metadata": {},
   "outputs": [],
   "source": [
    "import numpy as np\n",
    "import pandas as pd\n",
    "import matplotlib.pyplot as plt\n",
    "import seaborn as sns\n",
    "from sklearn import linear_model\n",
    "from sklearn.linear_model import LinearRegression\n",
    "from sklearn.linear_model import Ridge\n",
    "from sklearn.linear_model import Lasso\n",
    "from sklearn.model_selection import GridSearchCV\n",
    "\n",
    "import os\n",
    "\n",
    "# hide warnings\n",
    "import warnings\n",
    "warnings.filterwarnings('ignore')\n",
    "sns.set_theme();\n",
    "\n",
    "#%matplotlib inline"
   ]
  },
  {
   "cell_type": "code",
   "execution_count": 33,
   "id": "694df134",
   "metadata": {},
   "outputs": [],
   "source": [
    "production = pd.read_csv('Production_Crops_Livestock_E_All_Data.csv',encoding='latin-1')\n",
    "prices = pd.read_csv('Prices_E_All_Data.csv',encoding='latin-1')\n",
    "GDP = pd.read_csv('API_NY.GDP.PCAP.CD_DS2_en_csv_v2_4019678.csv',skiprows=4)\n",
    "imports_gb = pd.read_csv('Trade_CropsLivestock_E_All_Data.csv',encoding='latin-1')"
   ]
  },
  {
   "cell_type": "markdown",
   "id": "89fdf80a",
   "metadata": {},
   "source": [
    "# CLEANING"
   ]
  },
  {
   "cell_type": "code",
   "execution_count": 34,
   "id": "f48cc2f7",
   "metadata": {},
   "outputs": [
    {
     "data": {
      "text/html": [
       "<div>\n",
       "<style scoped>\n",
       "    .dataframe tbody tr th:only-of-type {\n",
       "        vertical-align: middle;\n",
       "    }\n",
       "\n",
       "    .dataframe tbody tr th {\n",
       "        vertical-align: top;\n",
       "    }\n",
       "\n",
       "    .dataframe thead th {\n",
       "        text-align: right;\n",
       "    }\n",
       "</style>\n",
       "<table border=\"1\" class=\"dataframe\">\n",
       "  <thead>\n",
       "    <tr style=\"text-align: right;\">\n",
       "      <th></th>\n",
       "      <th>Area Code</th>\n",
       "      <th>Country</th>\n",
       "      <th>Item Code</th>\n",
       "      <th>Item</th>\n",
       "      <th>Element Code</th>\n",
       "      <th>Element</th>\n",
       "      <th>Unit</th>\n",
       "      <th>Y1961</th>\n",
       "      <th>Y1962</th>\n",
       "      <th>Y1963</th>\n",
       "      <th>...</th>\n",
       "      <th>Y2011</th>\n",
       "      <th>Y2012</th>\n",
       "      <th>Y2013</th>\n",
       "      <th>Y2014</th>\n",
       "      <th>Y2015</th>\n",
       "      <th>Y2016</th>\n",
       "      <th>Y2017</th>\n",
       "      <th>Y2018</th>\n",
       "      <th>Y2019</th>\n",
       "      <th>Y2020</th>\n",
       "    </tr>\n",
       "  </thead>\n",
       "  <tbody>\n",
       "    <tr>\n",
       "      <th>26584</th>\n",
       "      <td>104</td>\n",
       "      <td>Ireland</td>\n",
       "      <td>1780</td>\n",
       "      <td>Milk, Total</td>\n",
       "      <td>5510</td>\n",
       "      <td>Production</td>\n",
       "      <td>tonnes</td>\n",
       "      <td>2356000.0</td>\n",
       "      <td>2450800.0</td>\n",
       "      <td>2461100.0</td>\n",
       "      <td>...</td>\n",
       "      <td>5536680.0</td>\n",
       "      <td>5387770.0</td>\n",
       "      <td>5583670.0</td>\n",
       "      <td>5816220.0</td>\n",
       "      <td>6585120.0</td>\n",
       "      <td>6851430.0</td>\n",
       "      <td>7478160.0</td>\n",
       "      <td>7831250.0</td>\n",
       "      <td>8244870.0</td>\n",
       "      <td>8561470.0</td>\n",
       "    </tr>\n",
       "  </tbody>\n",
       "</table>\n",
       "<p>1 rows × 67 columns</p>\n",
       "</div>"
      ],
      "text/plain": [
       "       Area Code  Country  Item Code         Item  Element Code     Element  \\\n",
       "26584        104  Ireland       1780  Milk, Total          5510  Production   \n",
       "\n",
       "         Unit      Y1961      Y1962      Y1963  ...      Y2011      Y2012  \\\n",
       "26584  tonnes  2356000.0  2450800.0  2461100.0  ...  5536680.0  5387770.0   \n",
       "\n",
       "           Y2013      Y2014      Y2015      Y2016      Y2017      Y2018  \\\n",
       "26584  5583670.0  5816220.0  6585120.0  6851430.0  7478160.0  7831250.0   \n",
       "\n",
       "           Y2019      Y2020  \n",
       "26584  8244870.0  8561470.0  \n",
       "\n",
       "[1 rows x 67 columns]"
      ]
     },
     "execution_count": 34,
     "metadata": {},
     "output_type": "execute_result"
    }
   ],
   "source": [
    "production= production.rename(columns={\"Area\": \"Country\"})\n",
    "imports_gb= imports_gb.rename(columns={\"Area\": \"Country\"})\n",
    "\n",
    "production_milk=production[(production[\"Country\"]=='Ireland') & (production[\"Item Code\"]==1780) & (production[\"Element Code\"]==5510)]\n",
    "production_milk.head()\n",
    "#filtered_df = df[(df['col1'] >= 1) & (df['col1'] <= 5)]"
   ]
  },
  {
   "cell_type": "code",
   "execution_count": 35,
   "id": "9112c8e6",
   "metadata": {},
   "outputs": [
    {
     "data": {
      "text/html": [
       "<div>\n",
       "<style scoped>\n",
       "    .dataframe tbody tr th:only-of-type {\n",
       "        vertical-align: middle;\n",
       "    }\n",
       "\n",
       "    .dataframe tbody tr th {\n",
       "        vertical-align: top;\n",
       "    }\n",
       "\n",
       "    .dataframe thead th {\n",
       "        text-align: right;\n",
       "    }\n",
       "</style>\n",
       "<table border=\"1\" class=\"dataframe\">\n",
       "  <thead>\n",
       "    <tr style=\"text-align: right;\">\n",
       "      <th></th>\n",
       "      <th>Area Code</th>\n",
       "      <th>Country</th>\n",
       "      <th>Item Code</th>\n",
       "      <th>Item</th>\n",
       "      <th>Element Code</th>\n",
       "      <th>Element</th>\n",
       "      <th>Unit</th>\n",
       "      <th>Y1961</th>\n",
       "      <th>Y1962</th>\n",
       "      <th>Y1963</th>\n",
       "      <th>...</th>\n",
       "      <th>Y2011</th>\n",
       "      <th>Y2012</th>\n",
       "      <th>Y2013</th>\n",
       "      <th>Y2014</th>\n",
       "      <th>Y2015</th>\n",
       "      <th>Y2016</th>\n",
       "      <th>Y2017</th>\n",
       "      <th>Y2018</th>\n",
       "      <th>Y2019</th>\n",
       "      <th>Y2020</th>\n",
       "    </tr>\n",
       "  </thead>\n",
       "  <tbody>\n",
       "    <tr>\n",
       "      <th>26323</th>\n",
       "      <td>104</td>\n",
       "      <td>Ireland</td>\n",
       "      <td>866</td>\n",
       "      <td>Cattle</td>\n",
       "      <td>5111</td>\n",
       "      <td>Stocks</td>\n",
       "      <td>Head</td>\n",
       "      <td>4291200.0</td>\n",
       "      <td>4179200.0</td>\n",
       "      <td>4300600.0</td>\n",
       "      <td>...</td>\n",
       "      <td>6493000.0</td>\n",
       "      <td>6754100.0</td>\n",
       "      <td>6902600.0</td>\n",
       "      <td>6926100.0</td>\n",
       "      <td>6963500.0</td>\n",
       "      <td>7221200.0</td>\n",
       "      <td>7363498.0</td>\n",
       "      <td>6593490.0</td>\n",
       "      <td>6559650.0</td>\n",
       "      <td>6529440.0</td>\n",
       "    </tr>\n",
       "  </tbody>\n",
       "</table>\n",
       "<p>1 rows × 67 columns</p>\n",
       "</div>"
      ],
      "text/plain": [
       "       Area Code  Country  Item Code    Item  Element Code Element  Unit  \\\n",
       "26323        104  Ireland        866  Cattle          5111  Stocks  Head   \n",
       "\n",
       "           Y1961      Y1962      Y1963  ...      Y2011      Y2012      Y2013  \\\n",
       "26323  4291200.0  4179200.0  4300600.0  ...  6493000.0  6754100.0  6902600.0   \n",
       "\n",
       "           Y2014      Y2015      Y2016      Y2017      Y2018      Y2019  \\\n",
       "26323  6926100.0  6963500.0  7221200.0  7363498.0  6593490.0  6559650.0   \n",
       "\n",
       "           Y2020  \n",
       "26323  6529440.0  \n",
       "\n",
       "[1 rows x 67 columns]"
      ]
     },
     "execution_count": 35,
     "metadata": {},
     "output_type": "execute_result"
    }
   ],
   "source": [
    "cattle = production_milk.rename(columns={\"Area\": \"Country\"})\n",
    "cattle=production[(production[\"Country\"]=='Ireland') & (production[\"Item Code\"]==866)]\n",
    "cattle.head()"
   ]
  },
  {
   "cell_type": "code",
   "execution_count": 36,
   "id": "5033a7a0",
   "metadata": {},
   "outputs": [
    {
     "data": {
      "text/html": [
       "<div>\n",
       "<style scoped>\n",
       "    .dataframe tbody tr th:only-of-type {\n",
       "        vertical-align: middle;\n",
       "    }\n",
       "\n",
       "    .dataframe tbody tr th {\n",
       "        vertical-align: top;\n",
       "    }\n",
       "\n",
       "    .dataframe thead th {\n",
       "        text-align: right;\n",
       "    }\n",
       "</style>\n",
       "<table border=\"1\" class=\"dataframe\">\n",
       "  <thead>\n",
       "    <tr style=\"text-align: right;\">\n",
       "      <th></th>\n",
       "      <th>Area Code</th>\n",
       "      <th>Country</th>\n",
       "      <th>Item Code</th>\n",
       "      <th>Item</th>\n",
       "      <th>Element Code</th>\n",
       "      <th>Element</th>\n",
       "      <th>Months Code</th>\n",
       "      <th>Months</th>\n",
       "      <th>Unit</th>\n",
       "      <th>Y1991</th>\n",
       "      <th>...</th>\n",
       "      <th>Y2016</th>\n",
       "      <th>Y2016F</th>\n",
       "      <th>Y2017</th>\n",
       "      <th>Y2017F</th>\n",
       "      <th>Y2018</th>\n",
       "      <th>Y2018F</th>\n",
       "      <th>Y2019</th>\n",
       "      <th>Y2019F</th>\n",
       "      <th>Y2020</th>\n",
       "      <th>Y2020F</th>\n",
       "    </tr>\n",
       "  </thead>\n",
       "  <tbody>\n",
       "    <tr>\n",
       "      <th>38014</th>\n",
       "      <td>104</td>\n",
       "      <td>Ireland</td>\n",
       "      <td>1780</td>\n",
       "      <td>Milk, Total</td>\n",
       "      <td>5539</td>\n",
       "      <td>Producer Price Index (2014-2016 = 100)</td>\n",
       "      <td>7021</td>\n",
       "      <td>Annual value</td>\n",
       "      <td>NaN</td>\n",
       "      <td>80.0</td>\n",
       "      <td>...</td>\n",
       "      <td>86.0</td>\n",
       "      <td>Im</td>\n",
       "      <td>115.0</td>\n",
       "      <td>Im</td>\n",
       "      <td>116.0</td>\n",
       "      <td>Im</td>\n",
       "      <td>111.0</td>\n",
       "      <td>Im</td>\n",
       "      <td>NaN</td>\n",
       "      <td>NaN</td>\n",
       "    </tr>\n",
       "  </tbody>\n",
       "</table>\n",
       "<p>1 rows × 69 columns</p>\n",
       "</div>"
      ],
      "text/plain": [
       "       Area Code  Country  Item Code         Item  Element Code  \\\n",
       "38014        104  Ireland       1780  Milk, Total          5539   \n",
       "\n",
       "                                      Element  Months Code        Months Unit  \\\n",
       "38014  Producer Price Index (2014-2016 = 100)         7021  Annual value  NaN   \n",
       "\n",
       "       Y1991  ... Y2016  Y2016F  Y2017  Y2017F  Y2018  Y2018F  Y2019  Y2019F  \\\n",
       "38014   80.0  ...  86.0      Im  115.0      Im  116.0      Im  111.0      Im   \n",
       "\n",
       "      Y2020  Y2020F  \n",
       "38014   NaN     NaN  \n",
       "\n",
       "[1 rows x 69 columns]"
      ]
     },
     "execution_count": 36,
     "metadata": {},
     "output_type": "execute_result"
    }
   ],
   "source": [
    "prices = prices.rename(columns={\"Area\": \"Country\"})\n",
    "\n",
    "prices=prices[(prices[\"Country\"]=='Ireland') & (prices[\"Item Code\"]==1780)]\n",
    "prices.head()"
   ]
  },
  {
   "cell_type": "code",
   "execution_count": 37,
   "id": "8bc39e43",
   "metadata": {},
   "outputs": [
    {
     "data": {
      "text/html": [
       "<div>\n",
       "<style scoped>\n",
       "    .dataframe tbody tr th:only-of-type {\n",
       "        vertical-align: middle;\n",
       "    }\n",
       "\n",
       "    .dataframe tbody tr th {\n",
       "        vertical-align: top;\n",
       "    }\n",
       "\n",
       "    .dataframe thead th {\n",
       "        text-align: right;\n",
       "    }\n",
       "</style>\n",
       "<table border=\"1\" class=\"dataframe\">\n",
       "  <thead>\n",
       "    <tr style=\"text-align: right;\">\n",
       "      <th></th>\n",
       "      <th>Country</th>\n",
       "      <th>Country Code</th>\n",
       "      <th>Indicator Name</th>\n",
       "      <th>Indicator Code</th>\n",
       "      <th>1960</th>\n",
       "      <th>1961</th>\n",
       "      <th>1962</th>\n",
       "      <th>1963</th>\n",
       "      <th>1964</th>\n",
       "      <th>1965</th>\n",
       "      <th>...</th>\n",
       "      <th>2013</th>\n",
       "      <th>2014</th>\n",
       "      <th>2015</th>\n",
       "      <th>2016</th>\n",
       "      <th>2017</th>\n",
       "      <th>2018</th>\n",
       "      <th>2019</th>\n",
       "      <th>2020</th>\n",
       "      <th>2021</th>\n",
       "      <th>Unnamed: 66</th>\n",
       "    </tr>\n",
       "  </thead>\n",
       "  <tbody>\n",
       "    <tr>\n",
       "      <th>81</th>\n",
       "      <td>United Kingdom</td>\n",
       "      <td>GBR</td>\n",
       "      <td>GDP per capita (current US$)</td>\n",
       "      <td>NY.GDP.PCAP.CD</td>\n",
       "      <td>1397.594803</td>\n",
       "      <td>1472.385714</td>\n",
       "      <td>1525.775853</td>\n",
       "      <td>1613.456884</td>\n",
       "      <td>1748.288118</td>\n",
       "      <td>1873.567774</td>\n",
       "      <td>...</td>\n",
       "      <td>43713.814124</td>\n",
       "      <td>47787.241298</td>\n",
       "      <td>45404.567773</td>\n",
       "      <td>41499.555703</td>\n",
       "      <td>40857.755583</td>\n",
       "      <td>43646.951971</td>\n",
       "      <td>43070.498360</td>\n",
       "      <td>41059.168809</td>\n",
       "      <td>NaN</td>\n",
       "      <td>NaN</td>\n",
       "    </tr>\n",
       "    <tr>\n",
       "      <th>111</th>\n",
       "      <td>Ireland</td>\n",
       "      <td>IRL</td>\n",
       "      <td>GDP per capita (current US$)</td>\n",
       "      <td>NY.GDP.PCAP.CD</td>\n",
       "      <td>685.614712</td>\n",
       "      <td>739.276406</td>\n",
       "      <td>797.006288</td>\n",
       "      <td>852.135302</td>\n",
       "      <td>965.135423</td>\n",
       "      <td>1023.773726</td>\n",
       "      <td>...</td>\n",
       "      <td>51533.034565</td>\n",
       "      <td>55599.850800</td>\n",
       "      <td>62012.484926</td>\n",
       "      <td>62861.639116</td>\n",
       "      <td>69774.028972</td>\n",
       "      <td>79107.604993</td>\n",
       "      <td>80886.615739</td>\n",
       "      <td>85422.542868</td>\n",
       "      <td>NaN</td>\n",
       "      <td>NaN</td>\n",
       "    </tr>\n",
       "  </tbody>\n",
       "</table>\n",
       "<p>2 rows × 67 columns</p>\n",
       "</div>"
      ],
      "text/plain": [
       "            Country Country Code                Indicator Name  \\\n",
       "81   United Kingdom          GBR  GDP per capita (current US$)   \n",
       "111         Ireland          IRL  GDP per capita (current US$)   \n",
       "\n",
       "     Indicator Code         1960         1961         1962         1963  \\\n",
       "81   NY.GDP.PCAP.CD  1397.594803  1472.385714  1525.775853  1613.456884   \n",
       "111  NY.GDP.PCAP.CD   685.614712   739.276406   797.006288   852.135302   \n",
       "\n",
       "            1964         1965  ...          2013          2014          2015  \\\n",
       "81   1748.288118  1873.567774  ...  43713.814124  47787.241298  45404.567773   \n",
       "111   965.135423  1023.773726  ...  51533.034565  55599.850800  62012.484926   \n",
       "\n",
       "             2016          2017          2018          2019          2020  \\\n",
       "81   41499.555703  40857.755583  43646.951971  43070.498360  41059.168809   \n",
       "111  62861.639116  69774.028972  79107.604993  80886.615739  85422.542868   \n",
       "\n",
       "     2021  Unnamed: 66  \n",
       "81    NaN          NaN  \n",
       "111   NaN          NaN  \n",
       "\n",
       "[2 rows x 67 columns]"
      ]
     },
     "execution_count": 37,
     "metadata": {},
     "output_type": "execute_result"
    }
   ],
   "source": [
    "GDP=GDP[(GDP[\"Country Name\"]=='United Kingdom') | (GDP[\"Country Name\"]==\"Ireland\")]\n",
    "GDP = GDP.rename(columns={\"Country Name\": \"Country\"})\n",
    "\n",
    "GDP.head()"
   ]
  },
  {
   "cell_type": "code",
   "execution_count": 38,
   "id": "32fb3338",
   "metadata": {},
   "outputs": [
    {
     "data": {
      "text/html": [
       "<div>\n",
       "<style scoped>\n",
       "    .dataframe tbody tr th:only-of-type {\n",
       "        vertical-align: middle;\n",
       "    }\n",
       "\n",
       "    .dataframe tbody tr th {\n",
       "        vertical-align: top;\n",
       "    }\n",
       "\n",
       "    .dataframe thead th {\n",
       "        text-align: right;\n",
       "    }\n",
       "</style>\n",
       "<table border=\"1\" class=\"dataframe\">\n",
       "  <thead>\n",
       "    <tr style=\"text-align: right;\">\n",
       "      <th></th>\n",
       "      <th>Area Code</th>\n",
       "      <th>Country</th>\n",
       "      <th>Item Code</th>\n",
       "      <th>Item</th>\n",
       "      <th>Element Code</th>\n",
       "      <th>Element</th>\n",
       "      <th>Unit</th>\n",
       "      <th>Y1961</th>\n",
       "      <th>Y1961F</th>\n",
       "      <th>Y1962</th>\n",
       "      <th>...</th>\n",
       "      <th>Y2016</th>\n",
       "      <th>Y2016F</th>\n",
       "      <th>Y2017</th>\n",
       "      <th>Y2017F</th>\n",
       "      <th>Y2018</th>\n",
       "      <th>Y2018F</th>\n",
       "      <th>Y2019</th>\n",
       "      <th>Y2019F</th>\n",
       "      <th>Y2020</th>\n",
       "      <th>Y2020F</th>\n",
       "    </tr>\n",
       "  </thead>\n",
       "  <tbody>\n",
       "    <tr>\n",
       "      <th>264694</th>\n",
       "      <td>229</td>\n",
       "      <td>United Kingdom of Great Britain and Northern I...</td>\n",
       "      <td>886</td>\n",
       "      <td>Butter, cow milk</td>\n",
       "      <td>5610</td>\n",
       "      <td>Import Quantity</td>\n",
       "      <td>tonnes</td>\n",
       "      <td>429800.0</td>\n",
       "      <td>NaN</td>\n",
       "      <td>413409.0</td>\n",
       "      <td>...</td>\n",
       "      <td>93908.0</td>\n",
       "      <td>NaN</td>\n",
       "      <td>83006.0</td>\n",
       "      <td>NaN</td>\n",
       "      <td>81483.0</td>\n",
       "      <td>NaN</td>\n",
       "      <td>76496.0</td>\n",
       "      <td>NaN</td>\n",
       "      <td>79171.0</td>\n",
       "      <td>NaN</td>\n",
       "    </tr>\n",
       "    <tr>\n",
       "      <th>264792</th>\n",
       "      <td>229</td>\n",
       "      <td>United Kingdom of Great Britain and Northern I...</td>\n",
       "      <td>901</td>\n",
       "      <td>Cheese, whole cow milk</td>\n",
       "      <td>5610</td>\n",
       "      <td>Import Quantity</td>\n",
       "      <td>tonnes</td>\n",
       "      <td>136618.0</td>\n",
       "      <td>NaN</td>\n",
       "      <td>140916.0</td>\n",
       "      <td>...</td>\n",
       "      <td>416195.0</td>\n",
       "      <td>NaN</td>\n",
       "      <td>430026.0</td>\n",
       "      <td>NaN</td>\n",
       "      <td>459896.0</td>\n",
       "      <td>NaN</td>\n",
       "      <td>478679.0</td>\n",
       "      <td>NaN</td>\n",
       "      <td>452921.0</td>\n",
       "      <td>NaN</td>\n",
       "    </tr>\n",
       "    <tr>\n",
       "      <th>265463</th>\n",
       "      <td>229</td>\n",
       "      <td>United Kingdom of Great Britain and Northern I...</td>\n",
       "      <td>882</td>\n",
       "      <td>Milk, whole fresh cow</td>\n",
       "      <td>5610</td>\n",
       "      <td>Import Quantity</td>\n",
       "      <td>tonnes</td>\n",
       "      <td>1397.0</td>\n",
       "      <td>NaN</td>\n",
       "      <td>1651.0</td>\n",
       "      <td>...</td>\n",
       "      <td>82321.0</td>\n",
       "      <td>NaN</td>\n",
       "      <td>176250.0</td>\n",
       "      <td>NaN</td>\n",
       "      <td>187194.0</td>\n",
       "      <td>NaN</td>\n",
       "      <td>165053.0</td>\n",
       "      <td>NaN</td>\n",
       "      <td>172592.0</td>\n",
       "      <td>NaN</td>\n",
       "    </tr>\n",
       "  </tbody>\n",
       "</table>\n",
       "<p>3 rows × 127 columns</p>\n",
       "</div>"
      ],
      "text/plain": [
       "        Area Code                                            Country  \\\n",
       "264694        229  United Kingdom of Great Britain and Northern I...   \n",
       "264792        229  United Kingdom of Great Britain and Northern I...   \n",
       "265463        229  United Kingdom of Great Britain and Northern I...   \n",
       "\n",
       "        Item Code                    Item  Element Code          Element  \\\n",
       "264694        886        Butter, cow milk          5610  Import Quantity   \n",
       "264792        901  Cheese, whole cow milk          5610  Import Quantity   \n",
       "265463        882   Milk, whole fresh cow          5610  Import Quantity   \n",
       "\n",
       "          Unit     Y1961 Y1961F     Y1962  ...     Y2016  Y2016F     Y2017  \\\n",
       "264694  tonnes  429800.0    NaN  413409.0  ...   93908.0     NaN   83006.0   \n",
       "264792  tonnes  136618.0    NaN  140916.0  ...  416195.0     NaN  430026.0   \n",
       "265463  tonnes    1397.0    NaN    1651.0  ...   82321.0     NaN  176250.0   \n",
       "\n",
       "        Y2017F     Y2018  Y2018F     Y2019  Y2019F     Y2020  Y2020F  \n",
       "264694     NaN   81483.0     NaN   76496.0     NaN   79171.0     NaN  \n",
       "264792     NaN  459896.0     NaN  478679.0     NaN  452921.0     NaN  \n",
       "265463     NaN  187194.0     NaN  165053.0     NaN  172592.0     NaN  \n",
       "\n",
       "[3 rows x 127 columns]"
      ]
     },
     "execution_count": 38,
     "metadata": {},
     "output_type": "execute_result"
    }
   ],
   "source": [
    "imports_gb=imports_gb[(imports_gb[\"Item Code\"]==886) | (imports_gb[\"Item Code\"]==901) |  (imports_gb[\"Item Code\"]==882)]\n",
    "imports_gb=imports_gb[(imports_gb[\"Country\"]=='United Kingdom of Great Britain and Northern Ireland') & (imports_gb[\"Element Code\"]==5610)]\n",
    "\n",
    "imports_gb.head()"
   ]
  },
  {
   "cell_type": "code",
   "execution_count": 39,
   "id": "8ca4875e",
   "metadata": {},
   "outputs": [],
   "source": [
    "production_milk= production_milk.drop([\"Area Code\",\"Country\",\"Item Code\",\"Item\",\"Element Code\",\"Element\",\"Unit\"], axis=1)\n",
    "cattle=cattle.drop ([\"Area Code\",\"Country\",\"Item Code\",\"Item\",\"Element Code\",\"Element\",\"Unit\"], axis=1)\n",
    "prices= prices.drop([\"Area Code\", \"Country\",\"Item Code\",\"Item\",\"Element Code\",\"Element\",\"Months Code\",\"Months\",\"Unit\"], axis=1)\n",
    "GDP= GDP.drop([\"Country Code\", \"Indicator Name\",\"Indicator Code\"], axis=1)\n",
    "imports_gb=imports_gb.drop ([\"Area Code\",\"Country\",\"Item Code\",\"Country\",\"Element Code\",\"Element\",\"Unit\"], axis=1)"
   ]
  },
  {
   "cell_type": "markdown",
   "id": "df13a398",
   "metadata": {},
   "source": [
    "#  MELT "
   ]
  },
  {
   "cell_type": "code",
   "execution_count": 40,
   "id": "e84fb256",
   "metadata": {},
   "outputs": [],
   "source": [
    "production_milk= production_milk.melt(var_name=\"Year\", value_name=\"milk_production\")\n",
    "\n",
    "cattle= cattle.melt(var_name=\"Year\", value_name=\"cattle_heads\")\n",
    "\n",
    "prices= prices.melt(var_name=\"Year\", value_name=\"prices producer\")\n",
    "\n",
    "\n",
    "GDP= GDP.melt(id_vars=[\"Country\"],\n",
    "                 var_name=\"Year\",\n",
    "                 value_name=\"GDP\")\n",
    "\n",
    "imports_gb= imports_gb.melt(id_vars=[\"Item\"],\n",
    "                 var_name=\"Year\",\n",
    "                 value_name=\"import\")"
   ]
  },
  {
   "cell_type": "code",
   "execution_count": 41,
   "id": "acfc0130",
   "metadata": {},
   "outputs": [
    {
     "data": {
      "text/html": [
       "<div>\n",
       "<style scoped>\n",
       "    .dataframe tbody tr th:only-of-type {\n",
       "        vertical-align: middle;\n",
       "    }\n",
       "\n",
       "    .dataframe tbody tr th {\n",
       "        vertical-align: top;\n",
       "    }\n",
       "\n",
       "    .dataframe thead th {\n",
       "        text-align: right;\n",
       "    }\n",
       "</style>\n",
       "<table border=\"1\" class=\"dataframe\">\n",
       "  <thead>\n",
       "    <tr style=\"text-align: right;\">\n",
       "      <th></th>\n",
       "      <th>Year</th>\n",
       "      <th>cattle_heads</th>\n",
       "    </tr>\n",
       "  </thead>\n",
       "  <tbody>\n",
       "    <tr>\n",
       "      <th>0</th>\n",
       "      <td>Y1961</td>\n",
       "      <td>4291200.0</td>\n",
       "    </tr>\n",
       "    <tr>\n",
       "      <th>1</th>\n",
       "      <td>Y1962</td>\n",
       "      <td>4179200.0</td>\n",
       "    </tr>\n",
       "    <tr>\n",
       "      <th>2</th>\n",
       "      <td>Y1963</td>\n",
       "      <td>4300600.0</td>\n",
       "    </tr>\n",
       "    <tr>\n",
       "      <th>3</th>\n",
       "      <td>Y1964</td>\n",
       "      <td>4368800.0</td>\n",
       "    </tr>\n",
       "    <tr>\n",
       "      <th>4</th>\n",
       "      <td>Y1965</td>\n",
       "      <td>4524200.0</td>\n",
       "    </tr>\n",
       "  </tbody>\n",
       "</table>\n",
       "</div>"
      ],
      "text/plain": [
       "    Year  cattle_heads\n",
       "0  Y1961     4291200.0\n",
       "1  Y1962     4179200.0\n",
       "2  Y1963     4300600.0\n",
       "3  Y1964     4368800.0\n",
       "4  Y1965     4524200.0"
      ]
     },
     "execution_count": 41,
     "metadata": {},
     "output_type": "execute_result"
    }
   ],
   "source": [
    "cattle.head()"
   ]
  },
  {
   "cell_type": "code",
   "execution_count": 42,
   "id": "0ea1a682",
   "metadata": {},
   "outputs": [],
   "source": [
    "Milk_import_uk=imports_gb.query(\"Item=='Milk, whole fresh cow'\")\n",
    "Butter_import_uk=imports_gb.query(\"Item=='Butter, cow milk'\")\n",
    "Cheese_import_uk=imports_gb.query(\"Item=='Cheese, whole cow milk'\")\n",
    "GDP_gb=GDP.query(\"Country=='United Kingdom'\")\n",
    "GDP_ireland=GDP.query(\"Country=='Ireland'\")\n",
    "\n",
    "\n",
    "\n",
    "#milk_delivered_to_dairies=df.query(\"DAIRYPROD=='Raw cows milk delivered to dairies'\")\n",
    "\n",
    "Milk_import_uk = Milk_import_uk.rename(columns={\"import\": \"Milk_import_uk\"})\n",
    "Butter_import_uk = Butter_import_uk.rename(columns={\"import\": \"Butter_import_uk\"})\n",
    "Cheese_import_uk = Cheese_import_uk.rename(columns={\"import\": \"Cheese_import_uk\"})\n",
    "GDP_uk = GDP_gb.rename(columns={\"GDP\": \"GDP_uk\"})\n",
    "GDP_ireland= GDP_ireland.rename(columns={\"GDP\": \"GDP_ireland\"})"
   ]
  },
  {
   "cell_type": "markdown",
   "id": "89585a83",
   "metadata": {},
   "source": [
    "# COMBINING DATA "
   ]
  },
  {
   "cell_type": "code",
   "execution_count": 43,
   "id": "f736322c",
   "metadata": {},
   "outputs": [
    {
     "data": {
      "text/html": [
       "<div>\n",
       "<style scoped>\n",
       "    .dataframe tbody tr th:only-of-type {\n",
       "        vertical-align: middle;\n",
       "    }\n",
       "\n",
       "    .dataframe tbody tr th {\n",
       "        vertical-align: top;\n",
       "    }\n",
       "\n",
       "    .dataframe thead th {\n",
       "        text-align: right;\n",
       "    }\n",
       "</style>\n",
       "<table border=\"1\" class=\"dataframe\">\n",
       "  <thead>\n",
       "    <tr style=\"text-align: right;\">\n",
       "      <th></th>\n",
       "      <th>Year</th>\n",
       "      <th>milk_production</th>\n",
       "      <th>cattle_heads</th>\n",
       "      <th>prices producer</th>\n",
       "      <th>Milk_import_uk</th>\n",
       "      <th>Butter_import_uk</th>\n",
       "      <th>Cheese_import_uk</th>\n",
       "      <th>GDP_uk</th>\n",
       "      <th>GDP_ireland</th>\n",
       "    </tr>\n",
       "  </thead>\n",
       "  <tbody>\n",
       "    <tr>\n",
       "      <th>0</th>\n",
       "      <td>1991</td>\n",
       "      <td>5281800.0</td>\n",
       "      <td>6100500.0</td>\n",
       "      <td>80.0</td>\n",
       "      <td>18995.0</td>\n",
       "      <td>104220.0</td>\n",
       "      <td>190382.0</td>\n",
       "      <td>19900.726651</td>\n",
       "      <td>14087.207439</td>\n",
       "    </tr>\n",
       "    <tr>\n",
       "      <th>1</th>\n",
       "      <td>1992</td>\n",
       "      <td>5326100.0</td>\n",
       "      <td>6147400.0</td>\n",
       "      <td>87.0</td>\n",
       "      <td>70667.0</td>\n",
       "      <td>126074.0</td>\n",
       "      <td>228440.0</td>\n",
       "      <td>20487.170785</td>\n",
       "      <td>15714.384749</td>\n",
       "    </tr>\n",
       "    <tr>\n",
       "      <th>2</th>\n",
       "      <td>1993</td>\n",
       "      <td>5267400.0</td>\n",
       "      <td>6236400.0</td>\n",
       "      <td>93.0</td>\n",
       "      <td>45362.0</td>\n",
       "      <td>112741.0</td>\n",
       "      <td>184138.0</td>\n",
       "      <td>18389.019568</td>\n",
       "      <td>14657.061555</td>\n",
       "    </tr>\n",
       "    <tr>\n",
       "      <th>3</th>\n",
       "      <td>1994</td>\n",
       "      <td>5336500.0</td>\n",
       "      <td>6263900.0</td>\n",
       "      <td>93.0</td>\n",
       "      <td>91076.0</td>\n",
       "      <td>116250.0</td>\n",
       "      <td>212994.0</td>\n",
       "      <td>19709.238098</td>\n",
       "      <td>15902.929676</td>\n",
       "    </tr>\n",
       "    <tr>\n",
       "      <th>4</th>\n",
       "      <td>1995</td>\n",
       "      <td>5346800.0</td>\n",
       "      <td>6343900.0</td>\n",
       "      <td>98.0</td>\n",
       "      <td>74183.0</td>\n",
       "      <td>102764.0</td>\n",
       "      <td>178642.0</td>\n",
       "      <td>23206.568559</td>\n",
       "      <td>19158.456477</td>\n",
       "    </tr>\n",
       "  </tbody>\n",
       "</table>\n",
       "</div>"
      ],
      "text/plain": [
       "   Year  milk_production  cattle_heads prices producer Milk_import_uk  \\\n",
       "0  1991        5281800.0     6100500.0            80.0        18995.0   \n",
       "1  1992        5326100.0     6147400.0            87.0        70667.0   \n",
       "2  1993        5267400.0     6236400.0            93.0        45362.0   \n",
       "3  1994        5336500.0     6263900.0            93.0        91076.0   \n",
       "4  1995        5346800.0     6343900.0            98.0        74183.0   \n",
       "\n",
       "  Butter_import_uk Cheese_import_uk        GDP_uk   GDP_ireland  \n",
       "0         104220.0         190382.0  19900.726651  14087.207439  \n",
       "1         126074.0         228440.0  20487.170785  15714.384749  \n",
       "2         112741.0         184138.0  18389.019568  14657.061555  \n",
       "3         116250.0         212994.0  19709.238098  15902.929676  \n",
       "4         102764.0         178642.0  23206.568559  19158.456477  "
      ]
     },
     "execution_count": 43,
     "metadata": {},
     "output_type": "execute_result"
    }
   ],
   "source": [
    "inner_merged1=pd.merge(production_milk, cattle,on=[\"Year\"])\n",
    "inner_merged2=pd.merge(inner_merged1, prices,on=[\"Year\"])\n",
    "inner_merged3=pd.merge(inner_merged2, Milk_import_uk,on=[\"Year\"])\n",
    "inner_merged4=pd.merge(inner_merged3, Butter_import_uk,on=[\"Year\"])\n",
    "inner_merged5=pd.merge(inner_merged4, Cheese_import_uk,on=[\"Year\"])\n",
    "\n",
    "\n",
    "inner_merged5[\"Year\"] = inner_merged5[\"Year\"].apply(lambda x: x.replace(\"Y\", \"\"))\n",
    "\n",
    "production_milk_ireland=pd.merge(inner_merged5, GDP_uk,on=[\"Year\"])\n",
    "production_milk_ireland=pd.merge(production_milk_ireland, GDP_ireland,on=[\"Year\"])\n",
    "\n",
    "\n",
    "production_milk_ireland=production_milk_ireland.drop ([\"Item_x\",\"Item_y\",\"Item\",\"Country_x\",\"Country_y\"], axis=1)\n",
    "\n",
    "\n",
    "production_milk_ireland.head()"
   ]
  },
  {
   "cell_type": "code",
   "execution_count": 44,
   "id": "bbf1aa9b",
   "metadata": {},
   "outputs": [
    {
     "name": "stdout",
     "output_type": "stream",
     "text": [
      "<class 'pandas.core.frame.DataFrame'>\n",
      "Int64Index: 30 entries, 0 to 29\n",
      "Data columns (total 9 columns):\n",
      " #   Column            Non-Null Count  Dtype  \n",
      "---  ------            --------------  -----  \n",
      " 0   Year              30 non-null     int32  \n",
      " 1   milk_production   30 non-null     float64\n",
      " 2   cattle_heads      30 non-null     float64\n",
      " 3   prices producer   29 non-null     float64\n",
      " 4   Milk_import_uk    30 non-null     float64\n",
      " 5   Butter_import_uk  30 non-null     float64\n",
      " 6   Cheese_import_uk  30 non-null     float64\n",
      " 7   GDP_uk            30 non-null     float64\n",
      " 8   GDP_ireland       30 non-null     float64\n",
      "dtypes: float64(8), int32(1)\n",
      "memory usage: 2.2 KB\n"
     ]
    }
   ],
   "source": [
    "production_milk_ireland[[ 'cattle_heads','prices producer','Milk_import_uk','Butter_import_uk','Cheese_import_uk']] = production_milk_ireland[['cattle_heads','prices producer','Milk_import_uk','Butter_import_uk','Cheese_import_uk']].astype(float)\n",
    "production_milk_ireland['Year']= production_milk_ireland['Year'].astype(str).astype(int)\n",
    "\n",
    "production_milk_ireland.info()"
   ]
  },
  {
   "cell_type": "code",
   "execution_count": 45,
   "id": "6a70c94d",
   "metadata": {},
   "outputs": [
    {
     "name": "stdout",
     "output_type": "stream",
     "text": [
      "Year                0\n",
      "milk_production     0\n",
      "cattle_heads        0\n",
      "prices producer     0\n",
      "Milk_import_uk      0\n",
      "Butter_import_uk    0\n",
      "Cheese_import_uk    0\n",
      "GDP_uk              0\n",
      "GDP_ireland         0\n",
      "dtype: int64\n"
     ]
    }
   ],
   "source": [
    "production_milk_ireland['prices producer'].interpolate(method='linear', direction = 'forward', \n",
    "inplace=True)\n",
    "print(production_milk_ireland.isnull().sum())"
   ]
  },
  {
   "cell_type": "code",
   "execution_count": 46,
   "id": "e4a6f0d2",
   "metadata": {},
   "outputs": [
    {
     "data": {
      "image/png": "[encoded data removed]",
      "text/plain": [
       "<Figure size 1620x1620 with 90 Axes>"
      ]
     },
     "metadata": {},
     "output_type": "display_data"
    }
   ],
   "source": [
    "sns.set(style='whitegrid', context='notebook')\n",
    "\n",
    "# Consider the following columns from the entire dataset\n",
    "#cols = ['LSTAT', 'INDUS', 'NOX', 'RM', 'MEDV']\n",
    "\n",
    "# Display the pairplot using the above-mentioned columns\n",
    "sns.pairplot(production_milk_ireland, height = 2.5)\n",
    "\n",
    "plt.tight_layout()\n",
    "\n",
    "# plt.savefig('./figures/scatter.png', dpi=300)\n",
    "plt.show()"
   ]
  },
  {
   "cell_type": "code",
   "execution_count": 47,
   "id": "a3f6bb69",
   "metadata": {},
   "outputs": [
    {
     "data": {
      "text/plain": [
       "<AxesSubplot:>"
      ]
     },
     "execution_count": 47,
     "metadata": {},
     "output_type": "execute_result"
    },
    {
     "data": {
      "image/png": "[encoded data removed]",
      "text/plain": [
       "<Figure size 1440x720 with 2 Axes>"
      ]
     },
     "metadata": {},
     "output_type": "display_data"
    }
   ],
   "source": [
    "plt.figure(figsize=(20,10)) \n",
    "c = production_milk_ireland.corr()\n",
    "sns.heatmap(c,cmap=\"BrBG\",annot=True)"
   ]
  },
  {
   "cell_type": "markdown",
   "id": "1aaab217",
   "metadata": {},
   "source": [
    "# Regression Model"
   ]
  },
  {
   "cell_type": "code",
   "execution_count": 48,
   "id": "8b08e34b",
   "metadata": {},
   "outputs": [
    {
     "name": "stdout",
     "output_type": "stream",
     "text": [
      "0.9519459033136926 0.8744849041167101\n",
      "[0.61352944 0.17012603 0.10188329 0.06093828 0.0355974  0.00967825\n",
      " 0.00546103 0.00278629]\n"
     ]
    }
   ],
   "source": [
    "# Import the libraries\n",
    "from sklearn.model_selection import train_test_split\n",
    "from sklearn.linear_model import LinearRegression\n",
    "from sklearn.metrics import r2_score\n",
    "\n",
    "# Create X and y objects\n",
    "X = production_milk_ireland[['Year', 'cattle_heads', 'prices producer', 'Milk_import_uk', 'Butter_import_uk', 'Cheese_import_uk', 'GDP_uk','GDP_ireland']]\n",
    "y = production_milk_ireland['milk_production']\n",
    "\n",
    "\n",
    "# Create Train test split\n",
    "X_train, X_test, y_train, y_test = train_test_split(X, y, test_size = 0.20, random_state = 0, shuffle = True)\n",
    "\n",
    "\n",
    "# performing preprocessing part\n",
    "from sklearn.preprocessing import StandardScaler\n",
    "sc = StandardScaler()\n",
    "X_train = sc.fit_transform(X_train)\n",
    "X_test = sc.transform(X_test)\n",
    "\n",
    "\n",
    "\n",
    " #Applying PCA function on trainingv and testing set of X component\n",
    "from sklearn.decomposition import PCA\n",
    "\n",
    "pca = PCA(n_components = 8) #min 5 7 are good 8 is the best result\n",
    "X_train = pca.fit_transform(X_train)\n",
    "X_test = pca.transform(X_test)\n",
    "explained_variance = pca.explained_variance_ratio_\n",
    "\n",
    "\n",
    "\n",
    "# Fit model\n",
    "my_lm = LinearRegression()\n",
    "my_lm.fit(X = X_train, y = y_train)\n",
    "\n",
    "train_fcst = my_lm.predict(X_train)\n",
    "test_fcst = my_lm.predict(X_test)\n",
    "\n",
    "# Store the R2 error into train_r2 and test_r2\n",
    "train_r2 = r2_score(y_train, train_fcst)\n",
    "test_r2 = r2_score(y_test, test_fcst)\n",
    "\n",
    "# Display the training and test score\n",
    "print(train_r2, test_r2)\n",
    "\n",
    "# Plot result\n",
    "#plt.plot(list(test_fcst))\n",
    "#plt.plot(list(y_test))\n",
    "#plt.xlabel('')\n",
    "#plt.ylabel('')\n",
    "#plt.show()\n",
    "print(explained_variance)"
   ]
  },
  {
   "cell_type": "code",
   "execution_count": 49,
   "id": "d3b1be4c",
   "metadata": {},
   "outputs": [
    {
     "data": {
      "text/plain": [
       "<matplotlib.legend.Legend at 0x18193f5e190>"
      ]
     },
     "execution_count": 49,
     "metadata": {},
     "output_type": "execute_result"
    },
    {
     "data": {
      "image/png": "[encoded data removed]",
      "text/plain": [
       "<Figure size 432x288 with 1 Axes>"
      ]
     },
     "metadata": {},
     "output_type": "display_data"
    }
   ],
   "source": [
    "plt.bar(range(1,len(pca.explained_variance_ ) + 1), pca.explained_variance_ )\n",
    "plt.ylabel('Explained variance')\n",
    "plt.xlabel('Components')\n",
    "plt.plot(range(1, len(pca.explained_variance_ ) + 1), pca.explained_variance_,\n",
    "         c = 'red',\n",
    "         label = \"Cumulative Explained Variance\")\n",
    "plt.legend(loc = 'best')"
   ]
  },
  {
   "cell_type": "code",
   "execution_count": 50,
   "id": "7b8f2498",
   "metadata": {},
   "outputs": [
    {
     "name": "stdout",
     "output_type": "stream",
     "text": [
      "Fitting 5 folds for each of 28 candidates, totalling 140 fits\n"
     ]
    },
    {
     "data": {
      "text/plain": [
       "GridSearchCV(cv=5, estimator=Ridge(),\n",
       "             param_grid={'alpha': [0.0001, 0.001, 0.01, 0.05, 0.1, 0.2, 0.3,\n",
       "                                   0.4, 0.5, 0.6, 0.7, 0.8, 0.9, 1.0, 2.0, 3.0,\n",
       "                                   4.0, 5.0, 6.0, 7.0, 8.0, 9.0, 10.0, 20, 50,\n",
       "                                   100, 500, 1000]},\n",
       "             return_train_score=True, scoring='neg_mean_absolute_error',\n",
       "             verbose=1)"
      ]
     },
     "execution_count": 50,
     "metadata": {},
     "output_type": "execute_result"
    }
   ],
   "source": [
    "# list of alphas to tune\n",
    "params = {'alpha': [0.0001, 0.001, 0.01, 0.05, 0.1, \n",
    " 0.2, 0.3, 0.4, 0.5, 0.6, 0.7, 0.8, 0.9, 1.0, 2.0, 3.0, \n",
    " 4.0, 5.0, 6.0, 7.0, 8.0, 9.0, 10.0, 20, 50, 100, 500, 1000 ]}\n",
    "\n",
    "\n",
    "ridge = Ridge()\n",
    "\n",
    "# cross validation\n",
    "folds = 5\n",
    "model_cv = GridSearchCV(estimator = ridge, \n",
    "                        param_grid = params, \n",
    "                        scoring= 'neg_mean_absolute_error', \n",
    "                        cv = folds, \n",
    "                        return_train_score=True,\n",
    "                        verbose = 1)            \n",
    "model_cv.fit(X_train, y_train)"
   ]
  },
  {
   "cell_type": "code",
   "execution_count": 51,
   "id": "bd5a890e",
   "metadata": {},
   "outputs": [
    {
     "data": {
      "text/html": [
       "<div>\n",
       "<style scoped>\n",
       "    .dataframe tbody tr th:only-of-type {\n",
       "        vertical-align: middle;\n",
       "    }\n",
       "\n",
       "    .dataframe tbody tr th {\n",
       "        vertical-align: top;\n",
       "    }\n",
       "\n",
       "    .dataframe thead th {\n",
       "        text-align: right;\n",
       "    }\n",
       "</style>\n",
       "<table border=\"1\" class=\"dataframe\">\n",
       "  <thead>\n",
       "    <tr style=\"text-align: right;\">\n",
       "      <th></th>\n",
       "      <th>mean_fit_time</th>\n",
       "      <th>std_fit_time</th>\n",
       "      <th>mean_score_time</th>\n",
       "      <th>std_score_time</th>\n",
       "      <th>param_alpha</th>\n",
       "      <th>params</th>\n",
       "      <th>split0_test_score</th>\n",
       "      <th>split1_test_score</th>\n",
       "      <th>split2_test_score</th>\n",
       "      <th>split3_test_score</th>\n",
       "      <th>...</th>\n",
       "      <th>mean_test_score</th>\n",
       "      <th>std_test_score</th>\n",
       "      <th>rank_test_score</th>\n",
       "      <th>split0_train_score</th>\n",
       "      <th>split1_train_score</th>\n",
       "      <th>split2_train_score</th>\n",
       "      <th>split3_train_score</th>\n",
       "      <th>split4_train_score</th>\n",
       "      <th>mean_train_score</th>\n",
       "      <th>std_train_score</th>\n",
       "    </tr>\n",
       "  </thead>\n",
       "  <tbody>\n",
       "    <tr>\n",
       "      <th>0</th>\n",
       "      <td>0.0</td>\n",
       "      <td>0.0</td>\n",
       "      <td>0.000000</td>\n",
       "      <td>0.000000</td>\n",
       "      <td>0.0001</td>\n",
       "      <td>{'alpha': 0.0001}</td>\n",
       "      <td>-292704.152750</td>\n",
       "      <td>-270895.325776</td>\n",
       "      <td>-229630.594483</td>\n",
       "      <td>-238130.500063</td>\n",
       "      <td>...</td>\n",
       "      <td>-250323.227611</td>\n",
       "      <td>27203.919002</td>\n",
       "      <td>5</td>\n",
       "      <td>-145504.359260</td>\n",
       "      <td>-132289.637761</td>\n",
       "      <td>-145752.809401</td>\n",
       "      <td>-137736.844680</td>\n",
       "      <td>-161316.466482</td>\n",
       "      <td>-144520.023517</td>\n",
       "      <td>9800.030868</td>\n",
       "    </tr>\n",
       "    <tr>\n",
       "      <th>1</th>\n",
       "      <td>0.0</td>\n",
       "      <td>0.0</td>\n",
       "      <td>0.003129</td>\n",
       "      <td>0.006258</td>\n",
       "      <td>0.001</td>\n",
       "      <td>{'alpha': 0.001}</td>\n",
       "      <td>-292353.222398</td>\n",
       "      <td>-270581.202787</td>\n",
       "      <td>-229255.351996</td>\n",
       "      <td>-238297.192954</td>\n",
       "      <td>...</td>\n",
       "      <td>-250045.851982</td>\n",
       "      <td>27203.661465</td>\n",
       "      <td>4</td>\n",
       "      <td>-145372.879519</td>\n",
       "      <td>-132229.594125</td>\n",
       "      <td>-145813.016779</td>\n",
       "      <td>-137824.281297</td>\n",
       "      <td>-161320.395368</td>\n",
       "      <td>-144512.033418</td>\n",
       "      <td>9803.458457</td>\n",
       "    </tr>\n",
       "    <tr>\n",
       "      <th>2</th>\n",
       "      <td>0.0</td>\n",
       "      <td>0.0</td>\n",
       "      <td>0.000000</td>\n",
       "      <td>0.000000</td>\n",
       "      <td>0.01</td>\n",
       "      <td>{'alpha': 0.01}</td>\n",
       "      <td>-289115.839444</td>\n",
       "      <td>-267476.959690</td>\n",
       "      <td>-225568.195033</td>\n",
       "      <td>-239934.582291</td>\n",
       "      <td>...</td>\n",
       "      <td>-247360.849353</td>\n",
       "      <td>27365.566370</td>\n",
       "      <td>3</td>\n",
       "      <td>-144082.426814</td>\n",
       "      <td>-131638.847465</td>\n",
       "      <td>-146480.585975</td>\n",
       "      <td>-138687.939812</td>\n",
       "      <td>-161354.187318</td>\n",
       "      <td>-144448.797477</td>\n",
       "      <td>9872.556893</td>\n",
       "    </tr>\n",
       "    <tr>\n",
       "      <th>3</th>\n",
       "      <td>0.0</td>\n",
       "      <td>0.0</td>\n",
       "      <td>0.000000</td>\n",
       "      <td>0.000000</td>\n",
       "      <td>0.05</td>\n",
       "      <td>{'alpha': 0.05}</td>\n",
       "      <td>-290989.165284</td>\n",
       "      <td>-254437.669890</td>\n",
       "      <td>-221241.545956</td>\n",
       "      <td>-246615.876828</td>\n",
       "      <td>...</td>\n",
       "      <td>-241521.033079</td>\n",
       "      <td>32493.083885</td>\n",
       "      <td>1</td>\n",
       "      <td>-141361.141428</td>\n",
       "      <td>-131614.375557</td>\n",
       "      <td>-151004.716298</td>\n",
       "      <td>-143067.263181</td>\n",
       "      <td>-161399.501573</td>\n",
       "      <td>-145689.399607</td>\n",
       "      <td>9987.748652</td>\n",
       "    </tr>\n",
       "    <tr>\n",
       "      <th>4</th>\n",
       "      <td>0.0</td>\n",
       "      <td>0.0</td>\n",
       "      <td>0.000000</td>\n",
       "      <td>0.000000</td>\n",
       "      <td>0.1</td>\n",
       "      <td>{'alpha': 0.1}</td>\n",
       "      <td>-293780.845544</td>\n",
       "      <td>-239661.103392</td>\n",
       "      <td>-255021.046173</td>\n",
       "      <td>-253805.693363</td>\n",
       "      <td>...</td>\n",
       "      <td>-244134.770033</td>\n",
       "      <td>37462.423002</td>\n",
       "      <td>2</td>\n",
       "      <td>-144717.242039</td>\n",
       "      <td>-132510.235258</td>\n",
       "      <td>-155755.869050</td>\n",
       "      <td>-150140.054833</td>\n",
       "      <td>-166377.927135</td>\n",
       "      <td>-149900.265663</td>\n",
       "      <td>11270.632714</td>\n",
       "    </tr>\n",
       "  </tbody>\n",
       "</table>\n",
       "<p>5 rows × 21 columns</p>\n",
       "</div>"
      ],
      "text/plain": [
       "   mean_fit_time  std_fit_time  mean_score_time  std_score_time param_alpha  \\\n",
       "0            0.0           0.0         0.000000        0.000000      0.0001   \n",
       "1            0.0           0.0         0.003129        0.006258       0.001   \n",
       "2            0.0           0.0         0.000000        0.000000        0.01   \n",
       "3            0.0           0.0         0.000000        0.000000        0.05   \n",
       "4            0.0           0.0         0.000000        0.000000         0.1   \n",
       "\n",
       "              params  split0_test_score  split1_test_score  split2_test_score  \\\n",
       "0  {'alpha': 0.0001}     -292704.152750     -270895.325776     -229630.594483   \n",
       "1   {'alpha': 0.001}     -292353.222398     -270581.202787     -229255.351996   \n",
       "2    {'alpha': 0.01}     -289115.839444     -267476.959690     -225568.195033   \n",
       "3    {'alpha': 0.05}     -290989.165284     -254437.669890     -221241.545956   \n",
       "4     {'alpha': 0.1}     -293780.845544     -239661.103392     -255021.046173   \n",
       "\n",
       "   split3_test_score  ...  mean_test_score  std_test_score  rank_test_score  \\\n",
       "0     -238130.500063  ...   -250323.227611    27203.919002                5   \n",
       "1     -238297.192954  ...   -250045.851982    27203.661465                4   \n",
       "2     -239934.582291  ...   -247360.849353    27365.566370                3   \n",
       "3     -246615.876828  ...   -241521.033079    32493.083885                1   \n",
       "4     -253805.693363  ...   -244134.770033    37462.423002                2   \n",
       "\n",
       "   split0_train_score  split1_train_score  split2_train_score  \\\n",
       "0      -145504.359260      -132289.637761      -145752.809401   \n",
       "1      -145372.879519      -132229.594125      -145813.016779   \n",
       "2      -144082.426814      -131638.847465      -146480.585975   \n",
       "3      -141361.141428      -131614.375557      -151004.716298   \n",
       "4      -144717.242039      -132510.235258      -155755.869050   \n",
       "\n",
       "   split3_train_score  split4_train_score  mean_train_score  std_train_score  \n",
       "0      -137736.844680      -161316.466482    -144520.023517      9800.030868  \n",
       "1      -137824.281297      -161320.395368    -144512.033418      9803.458457  \n",
       "2      -138687.939812      -161354.187318    -144448.797477      9872.556893  \n",
       "3      -143067.263181      -161399.501573    -145689.399607      9987.748652  \n",
       "4      -150140.054833      -166377.927135    -149900.265663     11270.632714  \n",
       "\n",
       "[5 rows x 21 columns]"
      ]
     },
     "execution_count": 51,
     "metadata": {},
     "output_type": "execute_result"
    }
   ],
   "source": [
    "cv_results = pd.DataFrame(model_cv.cv_results_)\n",
    "cv_results = cv_results[cv_results['param_alpha']<=200]\n",
    "cv_results.head()"
   ]
  },
  {
   "cell_type": "code",
   "execution_count": 52,
   "id": "2f8a28be",
   "metadata": {},
   "outputs": [
    {
     "name": "stdout",
     "output_type": "stream",
     "text": [
      "Fitting 5 folds for each of 28 candidates, totalling 140 fits\n"
     ]
    },
    {
     "data": {
      "text/plain": [
       "GridSearchCV(cv=5, estimator=Lasso(),\n",
       "             param_grid={'alpha': [0.0001, 0.001, 0.01, 0.05, 0.1, 0.2, 0.3,\n",
       "                                   0.4, 0.5, 0.6, 0.7, 0.8, 0.9, 1.0, 2.0, 3.0,\n",
       "                                   4.0, 5.0, 6.0, 7.0, 8.0, 9.0, 10.0, 20, 50,\n",
       "                                   100, 500, 1000]},\n",
       "             return_train_score=True, scoring='neg_mean_absolute_error',\n",
       "             verbose=1)"
      ]
     },
     "execution_count": 52,
     "metadata": {},
     "output_type": "execute_result"
    }
   ],
   "source": [
    "lasso = Lasso()\n",
    "\n",
    "# cross validation\n",
    "model_cv = GridSearchCV(estimator = lasso, \n",
    "                        param_grid = params, \n",
    "                        scoring= 'neg_mean_absolute_error', \n",
    "                        cv = folds, \n",
    "                        return_train_score=True,\n",
    "                        verbose = 1)            \n",
    "\n",
    "model_cv.fit(X_train, y_train) "
   ]
  },
  {
   "cell_type": "code",
   "execution_count": 53,
   "id": "0c5935df",
   "metadata": {},
   "outputs": [
    {
     "data": {
      "text/html": [
       "<div>\n",
       "<style scoped>\n",
       "    .dataframe tbody tr th:only-of-type {\n",
       "        vertical-align: middle;\n",
       "    }\n",
       "\n",
       "    .dataframe tbody tr th {\n",
       "        vertical-align: top;\n",
       "    }\n",
       "\n",
       "    .dataframe thead th {\n",
       "        text-align: right;\n",
       "    }\n",
       "</style>\n",
       "<table border=\"1\" class=\"dataframe\">\n",
       "  <thead>\n",
       "    <tr style=\"text-align: right;\">\n",
       "      <th></th>\n",
       "      <th>mean_fit_time</th>\n",
       "      <th>std_fit_time</th>\n",
       "      <th>mean_score_time</th>\n",
       "      <th>std_score_time</th>\n",
       "      <th>param_alpha</th>\n",
       "      <th>params</th>\n",
       "      <th>split0_test_score</th>\n",
       "      <th>split1_test_score</th>\n",
       "      <th>split2_test_score</th>\n",
       "      <th>split3_test_score</th>\n",
       "      <th>...</th>\n",
       "      <th>mean_test_score</th>\n",
       "      <th>std_test_score</th>\n",
       "      <th>rank_test_score</th>\n",
       "      <th>split0_train_score</th>\n",
       "      <th>split1_train_score</th>\n",
       "      <th>split2_train_score</th>\n",
       "      <th>split3_train_score</th>\n",
       "      <th>split4_train_score</th>\n",
       "      <th>mean_train_score</th>\n",
       "      <th>std_train_score</th>\n",
       "    </tr>\n",
       "  </thead>\n",
       "  <tbody>\n",
       "    <tr>\n",
       "      <th>23</th>\n",
       "      <td>0.000000</td>\n",
       "      <td>0.000000</td>\n",
       "      <td>0.000000</td>\n",
       "      <td>0.000000</td>\n",
       "      <td>20</td>\n",
       "      <td>{'alpha': 20}</td>\n",
       "      <td>-292617.046235</td>\n",
       "      <td>-270871.233688</td>\n",
       "      <td>-229516.493768</td>\n",
       "      <td>-238148.905073</td>\n",
       "      <td>...</td>\n",
       "      <td>-250234.927621</td>\n",
       "      <td>27240.816536</td>\n",
       "      <td>5</td>\n",
       "      <td>-145479.934578</td>\n",
       "      <td>-132276.441402</td>\n",
       "      <td>-145801.212085</td>\n",
       "      <td>-137744.617773</td>\n",
       "      <td>-161323.153380</td>\n",
       "      <td>-144525.071844</td>\n",
       "      <td>9805.298009</td>\n",
       "    </tr>\n",
       "    <tr>\n",
       "      <th>24</th>\n",
       "      <td>0.000000</td>\n",
       "      <td>0.000000</td>\n",
       "      <td>0.000000</td>\n",
       "      <td>0.000000</td>\n",
       "      <td>50</td>\n",
       "      <td>{'alpha': 50}</td>\n",
       "      <td>-292427.121469</td>\n",
       "      <td>-270784.132786</td>\n",
       "      <td>-229282.658830</td>\n",
       "      <td>-238197.778830</td>\n",
       "      <td>...</td>\n",
       "      <td>-250054.772567</td>\n",
       "      <td>27297.511928</td>\n",
       "      <td>4</td>\n",
       "      <td>-145421.285139</td>\n",
       "      <td>-132246.593618</td>\n",
       "      <td>-145883.825733</td>\n",
       "      <td>-137767.486119</td>\n",
       "      <td>-161333.953418</td>\n",
       "      <td>-144530.628805</td>\n",
       "      <td>9814.415399</td>\n",
       "    </tr>\n",
       "    <tr>\n",
       "      <th>25</th>\n",
       "      <td>0.000000</td>\n",
       "      <td>0.000000</td>\n",
       "      <td>0.000000</td>\n",
       "      <td>0.000000</td>\n",
       "      <td>100</td>\n",
       "      <td>{'alpha': 100}</td>\n",
       "      <td>-292112.415568</td>\n",
       "      <td>-270634.195467</td>\n",
       "      <td>-228892.967573</td>\n",
       "      <td>-238297.492339</td>\n",
       "      <td>...</td>\n",
       "      <td>-249758.566597</td>\n",
       "      <td>27391.068540</td>\n",
       "      <td>3</td>\n",
       "      <td>-145323.728393</td>\n",
       "      <td>-132196.838679</td>\n",
       "      <td>-146021.588722</td>\n",
       "      <td>-137813.930312</td>\n",
       "      <td>-161351.509509</td>\n",
       "      <td>-144541.519123</td>\n",
       "      <td>9828.833304</td>\n",
       "    </tr>\n",
       "    <tr>\n",
       "      <th>26</th>\n",
       "      <td>0.003198</td>\n",
       "      <td>0.006213</td>\n",
       "      <td>0.000056</td>\n",
       "      <td>0.000111</td>\n",
       "      <td>500</td>\n",
       "      <td>{'alpha': 500}</td>\n",
       "      <td>-290510.152564</td>\n",
       "      <td>-269472.886161</td>\n",
       "      <td>-225775.174302</td>\n",
       "      <td>-239095.200414</td>\n",
       "      <td>...</td>\n",
       "      <td>-247577.721230</td>\n",
       "      <td>28506.428736</td>\n",
       "      <td>2</td>\n",
       "      <td>-144542.841004</td>\n",
       "      <td>-131798.871110</td>\n",
       "      <td>-147123.317332</td>\n",
       "      <td>-138185.483855</td>\n",
       "      <td>-161492.799847</td>\n",
       "      <td>-144628.662630</td>\n",
       "      <td>9967.425893</td>\n",
       "    </tr>\n",
       "    <tr>\n",
       "      <th>27</th>\n",
       "      <td>0.000000</td>\n",
       "      <td>0.000000</td>\n",
       "      <td>0.000000</td>\n",
       "      <td>0.000000</td>\n",
       "      <td>1000</td>\n",
       "      <td>{'alpha': 1000}</td>\n",
       "      <td>-292298.883117</td>\n",
       "      <td>-268021.249529</td>\n",
       "      <td>-221877.875534</td>\n",
       "      <td>-240092.335506</td>\n",
       "      <td>...</td>\n",
       "      <td>-245612.654431</td>\n",
       "      <td>31185.786821</td>\n",
       "      <td>1</td>\n",
       "      <td>-143567.277792</td>\n",
       "      <td>-131932.482983</td>\n",
       "      <td>-148500.157780</td>\n",
       "      <td>-138649.925784</td>\n",
       "      <td>-161668.195632</td>\n",
       "      <td>-144863.607994</td>\n",
       "      <td>10031.181113</td>\n",
       "    </tr>\n",
       "  </tbody>\n",
       "</table>\n",
       "<p>5 rows × 21 columns</p>\n",
       "</div>"
      ],
      "text/plain": [
       "    mean_fit_time  std_fit_time  mean_score_time  std_score_time param_alpha  \\\n",
       "23       0.000000      0.000000         0.000000        0.000000          20   \n",
       "24       0.000000      0.000000         0.000000        0.000000          50   \n",
       "25       0.000000      0.000000         0.000000        0.000000         100   \n",
       "26       0.003198      0.006213         0.000056        0.000111         500   \n",
       "27       0.000000      0.000000         0.000000        0.000000        1000   \n",
       "\n",
       "             params  split0_test_score  split1_test_score  split2_test_score  \\\n",
       "23    {'alpha': 20}     -292617.046235     -270871.233688     -229516.493768   \n",
       "24    {'alpha': 50}     -292427.121469     -270784.132786     -229282.658830   \n",
       "25   {'alpha': 100}     -292112.415568     -270634.195467     -228892.967573   \n",
       "26   {'alpha': 500}     -290510.152564     -269472.886161     -225775.174302   \n",
       "27  {'alpha': 1000}     -292298.883117     -268021.249529     -221877.875534   \n",
       "\n",
       "    split3_test_score  ...  mean_test_score  std_test_score  rank_test_score  \\\n",
       "23     -238148.905073  ...   -250234.927621    27240.816536                5   \n",
       "24     -238197.778830  ...   -250054.772567    27297.511928                4   \n",
       "25     -238297.492339  ...   -249758.566597    27391.068540                3   \n",
       "26     -239095.200414  ...   -247577.721230    28506.428736                2   \n",
       "27     -240092.335506  ...   -245612.654431    31185.786821                1   \n",
       "\n",
       "    split0_train_score  split1_train_score  split2_train_score  \\\n",
       "23      -145479.934578      -132276.441402      -145801.212085   \n",
       "24      -145421.285139      -132246.593618      -145883.825733   \n",
       "25      -145323.728393      -132196.838679      -146021.588722   \n",
       "26      -144542.841004      -131798.871110      -147123.317332   \n",
       "27      -143567.277792      -131932.482983      -148500.157780   \n",
       "\n",
       "    split3_train_score  split4_train_score  mean_train_score  std_train_score  \n",
       "23      -137744.617773      -161323.153380    -144525.071844      9805.298009  \n",
       "24      -137767.486119      -161333.953418    -144530.628805      9814.415399  \n",
       "25      -137813.930312      -161351.509509    -144541.519123      9828.833304  \n",
       "26      -138185.483855      -161492.799847    -144628.662630      9967.425893  \n",
       "27      -138649.925784      -161668.195632    -144863.607994     10031.181113  \n",
       "\n",
       "[5 rows x 21 columns]"
      ]
     },
     "execution_count": 53,
     "metadata": {},
     "output_type": "execute_result"
    }
   ],
   "source": [
    "cv_results = pd.DataFrame(model_cv.cv_results_)\n",
    "cv_results.tail(5)"
   ]
  },
  {
   "cell_type": "code",
   "execution_count": 54,
   "id": "930c8cd6",
   "metadata": {},
   "outputs": [
    {
     "name": "stdout",
     "output_type": "stream",
     "text": [
      "Training set score: 0.92\n",
      "Test set score: 0.90\n"
     ]
    }
   ],
   "source": [
    "# alpha = 10 is a parameter using a fit() method\n",
    "ridge10 = Ridge(alpha = 0.5).fit(X_train, y_train)\n",
    "\n",
    "# Display the score values for Ridge function\n",
    "print(\"Training set score: {:.2f}\".format(ridge10.score(X_train, y_train)))\n",
    "print(\"Test set score: {:.2f}\".format(ridge10.score(X_test, y_test)))"
   ]
  },
  {
   "cell_type": "code",
   "execution_count": 55,
   "id": "ad10c425",
   "metadata": {},
   "outputs": [
    {
     "name": "stdout",
     "output_type": "stream",
     "text": [
      "Training set score: 0.95\n",
      "Test set score: 0.88\n"
     ]
    }
   ],
   "source": [
    "# we increase the default setting of \"max_iter\",\n",
    "# otherwise the model would warn us that we should increase max_iter.\n",
    "lasso001 = Lasso(alpha=1000).fit(X_train, y_train)\n",
    "print(\"Training set score: {:.2f}\".format(lasso001.score(X_train, y_train)))\n",
    "print(\"Test set score: {:.2f}\".format(lasso001.score(X_test, y_test)))"
   ]
  },
  {
   "cell_type": "markdown",
   "id": "d3bb2441",
   "metadata": {},
   "source": [
    "# DATA SET TO STATISTICS"
   ]
  },
  {
   "cell_type": "code",
   "execution_count": 56,
   "id": "6e7086b0",
   "metadata": {},
   "outputs": [],
   "source": [
    "# It was created a special data set with data relevante para hypothesis test and was downloaded in order to do calculus on excel \n",
    "\n",
    "df = pd.DataFrame(milk_delivered_to_dairies)"
   ]
  },
  {
   "cell_type": "code",
   "execution_count": 57,
   "id": "e118e7b9",
   "metadata": {},
   "outputs": [],
   "source": [
    "df.to_csv(r'C:\\Users\\fenix\\milk_delivered_to_dairies.csv', index=False)\n"
   ]
  },
  {
   "cell_type": "code",
   "execution_count": null,
   "id": "4405265a",
   "metadata": {},
   "outputs": [],
   "source": []
  }
 ],
 "metadata": {
  "kernelspec": {
   "display_name": "Python 3 (ipykernel)",
   "language": "python",
   "name": "python3"
  },
  "language_info": {
   "codemirror_mode": {
    "name": "ipython",
    "version": 3
   },
   "file_extension": ".py",
   "mimetype": "text/x-python",
   "name": "python",
   "nbconvert_exporter": "python",
   "pygments_lexer": "ipython3",
   "version": "3.9.7"
  }
 },
 "nbformat": 4,
 "nbformat_minor": 5
}
